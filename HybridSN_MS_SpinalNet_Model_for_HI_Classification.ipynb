{
  "cells": [
    {
      "cell_type": "markdown",
      "source": [
        "# Import the required Libraries"
      ],
      "metadata": {
        "id": "jH9OvEM7srOD"
      }
    },
    {
      "cell_type": "code",
      "execution_count": 1,
      "metadata": {
        "id": "jSMyfxKw6pUv",
        "colab": {
          "base_uri": "https://localhost:8080/",
          "height": 17
        },
        "outputId": "05511dfa-de16-4817-f873-256fb1b42d35"
      },
      "outputs": [
        {
          "output_type": "display_data",
          "data": {
            "text/html": [
              "        <script type=\"text/javascript\">\n",
              "        window.PlotlyConfig = {MathJaxConfig: 'local'};\n",
              "        if (window.MathJax) {MathJax.Hub.Config({SVG: {font: \"STIX-Web\"}});}\n",
              "        if (typeof require !== 'undefined') {\n",
              "        require.undef(\"plotly\");\n",
              "        requirejs.config({\n",
              "            paths: {\n",
              "                'plotly': ['https://cdn.plot.ly/plotly-2.8.3.min']\n",
              "            }\n",
              "        });\n",
              "        require(['plotly'], function(Plotly) {\n",
              "            window._Plotly = Plotly;\n",
              "        });\n",
              "        }\n",
              "        </script>\n",
              "        "
            ]
          },
          "metadata": {}
        }
      ],
      "source": [
        "#%tensorflow_version 1.x\n",
        "import tensorflow\n",
        "#import talos\n",
        "import keras\n",
        "import time\n",
        "from keras.layers import Conv2D, Conv3D, Flatten, Dense, Reshape, GlobalAveragePooling3D, MaxPool3D\n",
        "from keras.layers import Dropout, Input, Lambda, Concatenate\n",
        "from keras.layers import Add, BatchNormalization\n",
        "from tensorflow.keras.models import Model\n",
        "from tensorflow.keras.optimizers import Adam, SGD\n",
        "from keras.callbacks import ModelCheckpoint\n",
        "from keras.utils import np_utils\n",
        "from keras.utils.vis_utils import plot_model\n",
        "from sklearn.decomposition import PCA\n",
        "from sklearn.model_selection import train_test_split\n",
        "from sklearn.metrics import confusion_matrix, accuracy_score, classification_report, cohen_kappa_score\n",
        "from sklearn import preprocessing \n",
        "from sklearn.svm import LinearSVC\n",
        "\n",
        "from operator import truediv\n",
        "\n",
        "from plotly.offline import init_notebook_mode\n",
        "\n",
        "import numpy as np\n",
        "\n",
        "import matplotlib as mlp\n",
        "import matplotlib.pyplot as plt\n",
        "from matplotlib.colors import ListedColormap, LinearSegmentedColormap\n",
        "\n",
        "import scipy.io as sio\n",
        "import os\n",
        "from scipy.io import savemat\n",
        "from skimage.util import random_noise\n",
        "init_notebook_mode(connected=True)\n",
        "%matplotlib inline"
      ]
    },
    {
      "cell_type": "code",
      "execution_count": 2,
      "metadata": {
        "colab": {
          "base_uri": "https://localhost:8080/"
        },
        "id": "8njSUg5CEZb9",
        "outputId": "02728990-631b-4498-a736-aaec53eda407"
      },
      "outputs": [
        {
          "output_type": "stream",
          "name": "stdout",
          "text": [
            "2.8.2\n"
          ]
        }
      ],
      "source": [
        "print(tensorflow.__version__)"
      ]
    },
    {
      "cell_type": "code",
      "execution_count": 3,
      "metadata": {
        "colab": {
          "base_uri": "https://localhost:8080/",
          "height": 37
        },
        "id": "mdzSZGJ6C870",
        "outputId": "ba677f0d-3fac-40af-9dd0-73d4a8c34f12"
      },
      "outputs": [
        {
          "output_type": "execute_result",
          "data": {
            "text/plain": [
              "'2.8.0'"
            ],
            "application/vnd.google.colaboratory.intrinsic+json": {
              "type": "string"
            }
          },
          "metadata": {},
          "execution_count": 3
        }
      ],
      "source": [
        "keras.__version__"
      ]
    },
    {
      "cell_type": "markdown",
      "metadata": {
        "id": "WCkFMGOe6pU3"
      },
      "source": [
        "# Data Loading"
      ]
    },
    {
      "cell_type": "code",
      "execution_count": 4,
      "metadata": {
        "id": "2XFoW8a06pU4"
      },
      "outputs": [],
      "source": [
        "## GLOBAL VARIABLES\n",
        "dataset = 'IP'\n",
        "name = 'IP'\n",
        "\n",
        "#dataset = 'PU'\n",
        "#name = 'PU'\n",
        "\n",
        "#dataset = 'SA'\n",
        "#name = 'SA'\n",
        "\n",
        "#dataset = 'KSC'\n",
        "#name = 'KSC'\n",
        "\n",
        "test_ratio = 0.70 # 0.80\n",
        "windowSize = 13 #9 #11"
      ]
    },
    {
      "cell_type": "code",
      "execution_count": 5,
      "metadata": {
        "id": "rzVb-NNb6pU4"
      },
      "outputs": [],
      "source": [
        "def loadData(name):\n",
        "   \n",
        "    if name == 'IP':\n",
        "        \n",
        "        data = sio.loadmat('Indian_pines_corrected.mat')['indian_pines_corrected']\n",
        "        labels = sio.loadmat('Indian_pines_gt.mat')['indian_pines_gt']\n",
        "    elif name == 'SA':\n",
        "        \n",
        "        data = sio.loadmat('Salinas_corrected.mat')['salinas_corrected']\n",
        "        labels = sio.loadmat('Salinas_gt.mat')['salinas_gt']\n",
        "    elif name == 'PU':\n",
        "        \n",
        "        data = sio.loadmat('PaviaU.mat')['paviaU']\n",
        "        labels = sio.loadmat('PaviaU_gt.mat')['paviaU_gt']\n",
        "    elif name == 'KSC':\n",
        "        data = sio.loadmat('KSC.mat')['KSC']\n",
        "        labels = sio.loadmat('KSC_gt.mat')['KSC_gt']\n",
        "    \n",
        "    return data, labels"
      ]
    },
    {
      "cell_type": "markdown",
      "source": [
        "# Function for splitting the patches into Training and Testing samples"
      ],
      "metadata": {
        "id": "Bx8qFqN_s5aJ"
      }
    },
    {
      "cell_type": "code",
      "execution_count": 6,
      "metadata": {
        "id": "9H6KWIDT6pU5"
      },
      "outputs": [],
      "source": [
        "def splitTrainTestSet(X, y, testRatio, randomState=345):\n",
        "    X_train, X_test, y_train, y_test = train_test_split(X, y, test_size=testRatio, random_state=randomState,\n",
        "                                                        stratify=y)\n",
        "    return X_train, X_test, y_train, y_test"
      ]
    },
    {
      "cell_type": "markdown",
      "source": [
        "#Function for applying PCA"
      ],
      "metadata": {
        "id": "NISl6luqtDxi"
      }
    },
    {
      "cell_type": "code",
      "execution_count": 7,
      "metadata": {
        "id": "kTnRqwcG6pU5"
      },
      "outputs": [],
      "source": [
        "def applyPCA(X, numComponents=75):\n",
        "    newX = np.reshape(X, (-1, X.shape[2]))\n",
        "    pca = PCA(n_components=numComponents, whiten=True)\n",
        "    newX = pca.fit_transform(newX)\n",
        "    newX = np.reshape(newX, (X.shape[0],X.shape[1], numComponents))\n",
        "    return newX, pca"
      ]
    },
    {
      "cell_type": "markdown",
      "source": [
        "# Function for Zero Padding"
      ],
      "metadata": {
        "id": "kyXXO5NytLI5"
      }
    },
    {
      "cell_type": "code",
      "execution_count": 8,
      "metadata": {
        "id": "LqU4_Fc86pU6"
      },
      "outputs": [],
      "source": [
        "def padWithZeros(X, margin=2):\n",
        "    newX = np.zeros((X.shape[0] + 2 * margin, X.shape[1] + 2* margin, X.shape[2]))\n",
        "    x_offset = margin\n",
        "    y_offset = margin\n",
        "    newX[x_offset:X.shape[0] + x_offset, y_offset:X.shape[1] + y_offset, :] = X\n",
        "    return newX"
      ]
    },
    {
      "cell_type": "markdown",
      "source": [
        "# Function to Extract Image cubes from the Dataset"
      ],
      "metadata": {
        "id": "kp4gAtprtQ6D"
      }
    },
    {
      "cell_type": "code",
      "execution_count": 9,
      "metadata": {
        "id": "LV7Dznu46pU6"
      },
      "outputs": [],
      "source": [
        "def createImageCubes(X, y, windowSize=5, removeZeroLabels = True):\n",
        "    margin = int((windowSize - 1) / 2)\n",
        "    zeroPaddedX = padWithZeros(X, margin=margin)\n",
        "    # split patches\n",
        "    patchesData = np.zeros((X.shape[0] * X.shape[1], windowSize, windowSize, X.shape[2]))\n",
        "    patchesLabels = np.zeros((X.shape[0] * X.shape[1]))\n",
        "    patchIndex = 0\n",
        "    for r in range(margin, zeroPaddedX.shape[0] - margin):\n",
        "        for c in range(margin, zeroPaddedX.shape[1] - margin):\n",
        "            patch = zeroPaddedX[r - margin:r + margin + 1, c - margin:c + margin + 1]   \n",
        "            patchesData[patchIndex, :, :, :] = patch\n",
        "            patchesLabels[patchIndex] = y[r-margin, c-margin]\n",
        "            patchIndex = patchIndex + 1\n",
        "    if removeZeroLabels:\n",
        "        patchesData = patchesData[patchesLabels>0,:,:,:]\n",
        "        patchesLabels = patchesLabels[patchesLabels>0]\n",
        "        patchesLabels -= 1\n",
        "    return patchesData, patchesLabels"
      ]
    },
    {
      "cell_type": "markdown",
      "source": [
        "# Oversampling of samples belonging to weaker classes"
      ],
      "metadata": {
        "id": "rY6fcROPteiL"
      }
    },
    {
      "cell_type": "code",
      "execution_count": 10,
      "metadata": {
        "id": "SNfG9bGtjzr3"
      },
      "outputs": [],
      "source": [
        "def oversampleWeakClasses(X, y):\n",
        "    uniqueLabels, labelCounts = np.unique(y, return_counts=True)\n",
        "    maxCount = np.max(labelCounts)\n",
        "    labelInverseRatios = maxCount / labelCounts  \n",
        "    # repeat for every label and concat\n",
        "    newX = X[y == uniqueLabels[0], :, :, :].repeat(round(labelInverseRatios[0]), axis=0)\n",
        "    newY = y[y == uniqueLabels[0]].repeat(round(labelInverseRatios[0]), axis=0)\n",
        "    for label, labelInverseRatio in zip(uniqueLabels[1:], labelInverseRatios[1:]):\n",
        "        cX = X[y== label,:,:,:].repeat(round(labelInverseRatio), axis=0)\n",
        "        cY = y[y == label].repeat(round(labelInverseRatio), axis=0)\n",
        "        newX = np.concatenate((newX, cX))\n",
        "        newY = np.concatenate((newY, cY))\n",
        "    np.random.seed(seed=42)\n",
        "    rand_perm = np.random.permutation(newY.shape[0])\n",
        "    newX = newX[rand_perm, :, :, :]\n",
        "    newY = newY[rand_perm]\n",
        "    return newX, newY"
      ]
    },
    {
      "cell_type": "markdown",
      "source": [
        "# Step 1 : Load the Dataset and the corresponding Groundtruth"
      ],
      "metadata": {
        "id": "yVLdhG7ntqsc"
      }
    },
    {
      "cell_type": "code",
      "execution_count": 11,
      "metadata": {
        "id": "VEuw7f5w6pU7",
        "colab": {
          "base_uri": "https://localhost:8080/"
        },
        "outputId": "4af8a373-299b-4b33-ef83-7fc19284e018"
      },
      "outputs": [
        {
          "output_type": "execute_result",
          "data": {
            "text/plain": [
              "((145, 145, 200), (145, 145))"
            ]
          },
          "metadata": {},
          "execution_count": 11
        }
      ],
      "source": [
        "X, labels = loadData(dataset)\n",
        "\n",
        "X.shape, labels.shape"
      ]
    },
    {
      "cell_type": "code",
      "execution_count": 12,
      "metadata": {
        "id": "LZfGQJgcdNTy",
        "colab": {
          "base_uri": "https://localhost:8080/"
        },
        "outputId": "2ca8e603-f7df-43e5-8b84-a8881007bbb5"
      },
      "outputs": [
        {
          "output_type": "execute_result",
          "data": {
            "text/plain": [
              "(145, 145, 200)"
            ]
          },
          "metadata": {},
          "execution_count": 12
        }
      ],
      "source": [
        "X.shape"
      ]
    },
    {
      "cell_type": "code",
      "source": [
        "plt.imshow(X[:,:,0])"
      ],
      "metadata": {
        "id": "qQ0Yl_XR91HW",
        "colab": {
          "base_uri": "https://localhost:8080/",
          "height": 286
        },
        "outputId": "4b7f95a9-0eb9-4bc9-fee6-788cfa7e1e3c"
      },
      "execution_count": 13,
      "outputs": [
        {
          "output_type": "execute_result",
          "data": {
            "text/plain": [
              "<matplotlib.image.AxesImage at 0x7f74f6afe390>"
            ]
          },
          "metadata": {},
          "execution_count": 13
        },
        {
          "output_type": "display_data",
          "data": {
            "text/plain": [
              "<Figure size 432x288 with 1 Axes>"
            ],
            "image/png": "[encoded data removed]"
          },
          "metadata": {
            "needs_background": "light"
          }
        }
      ]
    },
    {
      "cell_type": "code",
      "execution_count": 14,
      "metadata": {
        "id": "aTeqv9Sg6pU7"
      },
      "outputs": [],
      "source": [
        "K = X.shape[2]"
      ]
    },
    {
      "cell_type": "markdown",
      "source": [
        "# Standardize the Dataset using MinMax Scaler"
      ],
      "metadata": {
        "id": "o0nXKwhTt3kw"
      }
    },
    {
      "cell_type": "code",
      "execution_count": 15,
      "metadata": {
        "id": "YrPULpNGfiAD"
      },
      "outputs": [],
      "source": [
        "from sklearn.preprocessing import MinMaxScaler\n",
        "# define min max scaler\n",
        "scaler = MinMaxScaler()\n",
        "# transform data\n",
        "s = X.shape\n",
        "X_reshaped = np.reshape(X, (s[0]*s[1],s[2]))\n",
        "scaled = scaler.fit_transform(X_reshaped)\n",
        "X = np.reshape(scaled,(s[0],s[1],s[2]))"
      ]
    },
    {
      "cell_type": "code",
      "execution_count": 16,
      "metadata": {
        "colab": {
          "base_uri": "https://localhost:8080/"
        },
        "id": "sQ7a5o0shjQ5",
        "outputId": "7372eb9c-a2cc-4863-e65a-3e3cc593acad"
      },
      "outputs": [
        {
          "output_type": "execute_result",
          "data": {
            "text/plain": [
              "(145, 145, 200)"
            ]
          },
          "metadata": {},
          "execution_count": 16
        }
      ],
      "source": [
        "X.shape"
      ]
    },
    {
      "cell_type": "markdown",
      "source": [
        "# Apply the PCA on the Dataset."
      ],
      "metadata": {
        "id": "xs80qui_uDsd"
      }
    },
    {
      "cell_type": "code",
      "execution_count": 17,
      "metadata": {
        "colab": {
          "base_uri": "https://localhost:8080/"
        },
        "id": "tLyEQK4B6pU8",
        "outputId": "8b219bea-2a4a-4c6e-c214-cd0daf1cf242"
      },
      "outputs": [
        {
          "output_type": "execute_result",
          "data": {
            "text/plain": [
              "(145, 145, 30)"
            ]
          },
          "metadata": {},
          "execution_count": 17
        }
      ],
      "source": [
        "K = 30 if dataset == 'IP' or 'KSC' else 15\n",
        "X,pca = applyPCA(X,numComponents=K)\n",
        "\n",
        "X.shape"
      ]
    },
    {
      "cell_type": "markdown",
      "source": [
        "# Extract the Image cubes from the Dataset"
      ],
      "metadata": {
        "id": "Ue_QRF25uO1T"
      }
    },
    {
      "cell_type": "code",
      "execution_count": 18,
      "metadata": {
        "colab": {
          "base_uri": "https://localhost:8080/"
        },
        "id": "QF222GYT6pU8",
        "outputId": "63797527-8ab1-44b5-f517-c4ad2d86a9fa"
      },
      "outputs": [
        {
          "output_type": "execute_result",
          "data": {
            "text/plain": [
              "((10249, 13, 13, 30), (10249,))"
            ]
          },
          "metadata": {},
          "execution_count": 18
        }
      ],
      "source": [
        "Xdata, ydata = createImageCubes(X, labels, windowSize=windowSize)\n",
        "\n",
        "Xdata.shape, ydata.shape"
      ]
    },
    {
      "cell_type": "markdown",
      "source": [
        "# Split the Image cubes into training and testing samples"
      ],
      "metadata": {
        "id": "krjoEXSauWD1"
      }
    },
    {
      "cell_type": "code",
      "execution_count": 19,
      "metadata": {
        "colab": {
          "base_uri": "https://localhost:8080/"
        },
        "id": "LTI1vDvz6pU9",
        "outputId": "3709da02-bfc3-4b6b-aad2-ca2816aaa25f"
      },
      "outputs": [
        {
          "output_type": "execute_result",
          "data": {
            "text/plain": [
              "((3074, 13, 13, 30), (7175, 13, 13, 30), (3074,), (7175,))"
            ]
          },
          "metadata": {},
          "execution_count": 19
        }
      ],
      "source": [
        "Xtrain, Xtest, ytrain, ytest = splitTrainTestSet(Xdata, ydata, test_ratio)\n",
        "\n",
        "Xtrain.shape, Xtest.shape, ytrain.shape, ytest.shape"
      ]
    },
    {
      "cell_type": "markdown",
      "source": [
        "# Oversample the weak classes"
      ],
      "metadata": {
        "id": "RzI9J1O8ufOz"
      }
    },
    {
      "cell_type": "code",
      "execution_count": 20,
      "metadata": {
        "id": "cvbNfcSokHJq"
      },
      "outputs": [],
      "source": [
        "#Xtrain, ytrain = oversampleWeakClasses(Xtrain, ytrain)"
      ]
    },
    {
      "cell_type": "code",
      "execution_count": 21,
      "metadata": {
        "colab": {
          "base_uri": "https://localhost:8080/"
        },
        "id": "6M-M-ezzkJHt",
        "outputId": "0e4c8495-5d7b-4f6c-b4c7-6389ef49bff9"
      },
      "outputs": [
        {
          "output_type": "execute_result",
          "data": {
            "text/plain": [
              "(3074, 13, 13, 30)"
            ]
          },
          "metadata": {},
          "execution_count": 21
        }
      ],
      "source": [
        "Xtrain.shape"
      ]
    },
    {
      "cell_type": "markdown",
      "metadata": {
        "id": "L7jvhPVM6pU9"
      },
      "source": [
        "# Model and Training"
      ]
    },
    {
      "cell_type": "code",
      "execution_count": 22,
      "metadata": {
        "colab": {
          "base_uri": "https://localhost:8080/"
        },
        "id": "-2XPHOch6pU-",
        "outputId": "eca979a2-f67d-4b98-bfcd-e4981c46b2a4"
      },
      "outputs": [
        {
          "output_type": "execute_result",
          "data": {
            "text/plain": [
              "(3074, 13, 13, 30, 1)"
            ]
          },
          "metadata": {},
          "execution_count": 22
        }
      ],
      "source": [
        "Xtrain = Xtrain.reshape(-1, windowSize, windowSize, K, 1)\n",
        "training_samples_after_oversampling = Xtrain.shape[0]\n",
        "Xtrain.shape"
      ]
    },
    {
      "cell_type": "code",
      "execution_count": 23,
      "metadata": {
        "colab": {
          "base_uri": "https://localhost:8080/"
        },
        "id": "y7hWzUJBUGFg",
        "outputId": "5cab71bb-1246-493d-b643-e9846224d9ee"
      },
      "outputs": [
        {
          "output_type": "execute_result",
          "data": {
            "text/plain": [
              "(7175, 13, 13, 30, 1)"
            ]
          },
          "metadata": {},
          "execution_count": 23
        }
      ],
      "source": [
        "Xtest = Xtest.reshape(-1, windowSize, windowSize, K, 1)\n",
        "Xtest.shape"
      ]
    },
    {
      "cell_type": "code",
      "execution_count": 24,
      "metadata": {
        "colab": {
          "base_uri": "https://localhost:8080/"
        },
        "id": "NscGnNfN6pU-",
        "outputId": "89e8c7d4-972d-43a1-afee-f4cb4cfd8339"
      },
      "outputs": [
        {
          "output_type": "execute_result",
          "data": {
            "text/plain": [
              "(3074, 16)"
            ]
          },
          "metadata": {},
          "execution_count": 24
        }
      ],
      "source": [
        "ytrain = np_utils.to_categorical(ytrain)\n",
        "ytrain.shape"
      ]
    },
    {
      "cell_type": "code",
      "execution_count": 25,
      "metadata": {
        "colab": {
          "base_uri": "https://localhost:8080/"
        },
        "id": "vfDagHgmT-LZ",
        "outputId": "1839a3ae-82bd-4410-bc11-551c5c5a86d0"
      },
      "outputs": [
        {
          "output_type": "execute_result",
          "data": {
            "text/plain": [
              "(3074, 16)"
            ]
          },
          "metadata": {},
          "execution_count": 25
        }
      ],
      "source": [
        "ytest = np_utils.to_categorical(ytest)\n",
        "ytrain.shape"
      ]
    },
    {
      "cell_type": "code",
      "execution_count": 26,
      "metadata": {
        "id": "z1sxhXOG6pU_"
      },
      "outputs": [],
      "source": [
        "S = windowSize\n",
        "L = K\n",
        "output_units = 16\n",
        "if (dataset == 'PU' or dataset == 'PC'):\n",
        "  output_units = 9\n",
        "elif(dataset =='KSC'):\n",
        "  output_units = 13 \n",
        "else:\n",
        "  output_units = 16"
      ]
    },
    {
      "cell_type": "code",
      "execution_count": 27,
      "metadata": {
        "id": "lr-Q41lgmR1v"
      },
      "outputs": [],
      "source": [
        "layer_width = 256\n",
        "Half_width = int(layer_width/2)"
      ]
    },
    {
      "cell_type": "markdown",
      "source": [
        "#Function for SFCN (Spinal Fully Connected Network)"
      ],
      "metadata": {
        "id": "Cyz9oEFhul5y"
      }
    },
    {
      "cell_type": "code",
      "execution_count": 28,
      "metadata": {
        "id": "zQlb3uTAD8mL"
      },
      "outputs": [],
      "source": [
        "def spnet(CNNDense,Half_width, layer_width,name):\n",
        "  out = Lambda(lambda x:x[:, 0:Half_width])(CNNDense)#(flatten_layer)\n",
        "  dense_layer1 = Dense(units = layer_width, activation='relu',input_shape=(Half_width,))(out) #(flatten_layer[:, 0:Half_width])\n",
        "  dense_layer1 = Dropout(0.25)(dense_layer1) #0.25 \n",
        "\n",
        "  out = Lambda(lambda x:x[:, Half_width:2*Half_width])(CNNDense)#(flatten_layer)\n",
        "  out1 = (Concatenate(axis = 1))([out, dense_layer1])\n",
        "  dense_layer2 = Dense(units = layer_width, activation='relu',input_shape=(Half_width + layer_width,))(out1)#(Concatenate(axis = 1))(out, dense_layer1)#([flatten_layer[:, Half_width:2*Half_width], dense_layer1])\n",
        "  dense_layer2 = Dropout(0.3)(dense_layer2) #0.3 \n",
        "\n",
        "\n",
        "  out = Lambda(lambda x:x[:,0:Half_width])(dense_layer2)\n",
        "  out1 = (Concatenate(axis = 1))([out, dense_layer2])\n",
        "  dense_layer3 = Dense(units=layer_width, activation='relu',input_shape=(Half_width,))(out1)#(Concatenate(axis = 1))([flatten_layer[:, 0:Half_width], dense_layer2])\n",
        "  dense_layer3 = Dropout(0.4)(dense_layer3) #0.4 \n",
        "\n",
        "\n",
        "  out = Lambda(lambda x:x[:, Half_width:2*Half_width])(dense_layer3)\n",
        "  out1 = (Concatenate(axis = 1))([out, dense_layer3])\n",
        "  dense_layer4 = Dense(units=layer_width, activation='relu',input_shape=(Half_width + layer_width,))(out1)#(Concatenate(axis = 1))([flatten_layer[:,Half_width:2*Half_width], dense_layer3])\n",
        "  dense_layer4 = Dropout(0.5)(dense_layer4) #0.45 5\n",
        "\n",
        "  x = Concatenate(axis = 1)([dense_layer1, dense_layer2])\n",
        "  x = Concatenate(axis = 1)([x, dense_layer3])\n",
        "  x = Concatenate(axis = 1, name = str(name))([x, dense_layer4])\n",
        "  return x"
      ]
    },
    {
      "cell_type": "markdown",
      "source": [
        "# Proposed structure of HybridMSSN Deep Learning model"
      ],
      "metadata": {
        "id": "E2R4wEaluv-t"
      }
    },
    {
      "cell_type": "code",
      "execution_count": 29,
      "metadata": {
        "colab": {
          "base_uri": "https://localhost:8080/",
          "height": 54
        },
        "id": "eWk0rwsV6pU_",
        "outputId": "d12df591-d73f-4b29-ad07-a98362b399b0"
      },
      "outputs": [
        {
          "output_type": "execute_result",
          "data": {
            "text/plain": [
              "\"\\n# define the model with input layer and output layer\\nmodel = Model(inputs=input_layer, outputs=output_layer)\\nadam = Adam(lr=0.001, decay=1e-06)\\nmodel.compile(loss='categorical_crossentropy', optimizer=adam, metrics=['accuracy'])\\n\""
            ],
            "application/vnd.google.colaboratory.intrinsic+json": {
              "type": "string"
            }
          },
          "metadata": {},
          "execution_count": 29
        }
      ],
      "source": [
        "## input layer\n",
        "input_layer = Input((S, S, L, 1))\n",
        "initializer = keras.initializers.glorot_uniform()\n",
        "conv_layer1 = Conv3D(filters=64, kernel_size= (3, 3, 3), activation='relu',padding = 'same', kernel_initializer=initializer)(input_layer)\n",
        "conv_layer1 = MaxPool3D(pool_size=2)(conv_layer1)\n",
        "conv_layer1 = Dropout(0.25)(conv_layer1)\n",
        "conv_layer1 = BatchNormalization()(conv_layer1)\n",
        "conv_layer2 = Conv3D(filters= 128, kernel_size=(3, 3, 3), activation='relu',padding = 'same', kernel_initializer=initializer)(conv_layer1)\n",
        "conv_layer2 = MaxPool3D(pool_size=2)(conv_layer2)\n",
        "conv_layer2 = Dropout(0.25)(conv_layer2)\n",
        "conv_layer2 = BatchNormalization()(conv_layer2)\n",
        "conv_layer3 = Conv3D(filters=256, kernel_size=(3, 3, 3), activation='relu',padding = 'same', kernel_initializer=initializer)(conv_layer2) #128\n",
        "conv_layer3 = Dropout(0.25)(conv_layer3)\n",
        "conv_layer3 = MaxPool3D(pool_size=2)(conv_layer3)\n",
        "conv_layer3 = BatchNormalization()(conv_layer3)\n",
        "conv3d_shape = conv_layer3.shape\n",
        "conv_layer3r = Reshape((conv3d_shape[1], conv3d_shape[2], conv3d_shape[3]*conv3d_shape[4]))(conv_layer3)\n",
        "conv_layer4 = Conv2D(filters=256, kernel_size=(3,3), activation='relu',padding='same')(conv_layer3r)#256\n",
        "conv_layer4d = Dropout(0.25)(conv_layer4)\n",
        "FLATTEN1 = Flatten(name='FLATTEN1')(conv_layer1)\n",
        "FLATTEN2 = Flatten(name='FLATTEN2')(conv_layer2)\n",
        "FLATTEN3 = Flatten(name='FLATTEN3')(conv_layer3)\n",
        "FLATTEN4 = Flatten(name='FLATTEN4')(conv_layer4d)\n",
        "DENSE1 = spnet(FLATTEN1,256,128,'feature_dense1') \n",
        "DENSE2 = spnet(FLATTEN2,256,128, 'feature_dense2') \n",
        "DENSE3 = spnet(FLATTEN3,256,128, 'feature_dense3') \n",
        "DENSE4 = spnet(FLATTEN4,256,128, 'feature_dense4') \n",
        "CNNDense = Add()([DENSE1, DENSE2, DENSE3, DENSE4])\n",
        "out = Lambda(lambda x:x[:, 0:Half_width])(CNNDense)#(flatten_layer)\n",
        "dense_layer1 = Dense(units = layer_width, activation='relu',input_shape=(Half_width,))(out) #(flatten_layer[:, 0:Half_width])\n",
        "dense_layer1 = Dropout(0.25)(dense_layer1) #0.25 \n",
        "out = Lambda(lambda x:x[:, Half_width:2*Half_width])(CNNDense)#(flatten_layer)\n",
        "out1 = (Concatenate(axis = 1))([out, dense_layer1])\n",
        "dense_layer2 = Dense(units = layer_width, activation='relu',input_shape=(Half_width + layer_width,))(out1)#(Concatenate(axis = 1))(out, dense_layer1)#([flatten_layer[:, Half_width:2*Half_width], dense_layer1])\n",
        "dense_layer2 = Dropout(0.3)(dense_layer2) #0.3 \n",
        "\n",
        "\n",
        "out = Lambda(lambda x:x[:,0:Half_width])(dense_layer2)\n",
        "out1 = (Concatenate(axis = 1))([out, dense_layer2])\n",
        "dense_layer3 = Dense(units=layer_width, activation='relu',input_shape=(Half_width,))(out1)#(Concatenate(axis = 1))([flatten_layer[:, 0:Half_width], dense_layer2])\n",
        "dense_layer3 = Dropout(0.4)(dense_layer3) #0.4 \n",
        "\n",
        "\n",
        "out = Lambda(lambda x:x[:, Half_width:2*Half_width])(dense_layer3)\n",
        "out1 = (Concatenate(axis = 1))([out, dense_layer3])\n",
        "dense_layer4 = Dense(units=layer_width, activation='relu',input_shape=(Half_width + layer_width,))(out1)#(Concatenate(axis = 1))([flatten_layer[:,Half_width:2*Half_width], dense_layer3])\n",
        "dense_layer4 = Dropout(0.5)(dense_layer4) #0.45 5\n",
        "\n",
        "x = Concatenate(axis = 1)([dense_layer1, dense_layer2])\n",
        "x = Concatenate(axis = 1)([x, dense_layer3])\n",
        "x = Concatenate(axis = 1, name = 'features_dense')([x, dense_layer4])\n",
        "\n",
        "\n",
        "\n",
        "output_layer = Dense(units=output_units, activation='softmax')(x) # (DENSE5)\n",
        "\"\"\"\n",
        "# define the model with input layer and output layer\n",
        "model = Model(inputs=input_layer, outputs=output_layer)\n",
        "adam = Adam(lr=0.001, decay=1e-06)\n",
        "model.compile(loss='categorical_crossentropy', optimizer=adam, metrics=['accuracy'])\n",
        "\"\"\""
      ]
    },
    {
      "cell_type": "code",
      "execution_count": 30,
      "metadata": {
        "id": "5fWyVr_a6pVA"
      },
      "outputs": [],
      "source": [
        "# define the model with input layer and output layer\n",
        "model = Model(inputs=input_layer, outputs=output_layer)"
      ]
    },
    {
      "cell_type": "markdown",
      "source": [
        "# Summary of the proposed HybridMSSN model"
      ],
      "metadata": {
        "id": "LLzTw2ImvL-T"
      }
    },
    {
      "cell_type": "code",
      "execution_count": 31,
      "metadata": {
        "colab": {
          "base_uri": "https://localhost:8080/"
        },
        "id": "dwnt811v6pVA",
        "outputId": "a44fe5b9-7586-4545-80f4-14690583c292"
      },
      "outputs": [
        {
          "output_type": "stream",
          "name": "stdout",
          "text": [
            "Model: \"model\"\n",
            "__________________________________________________________________________________________________\n",
            " Layer (type)                   Output Shape         Param #     Connected to                     \n",
            "==================================================================================================\n",
            " input_1 (InputLayer)           [(None, 13, 13, 30,  0           []                               \n",
            "                                 1)]                                                              \n",
            "                                                                                                  \n",
            " conv3d (Conv3D)                (None, 13, 13, 30,   1792        ['input_1[0][0]']                \n",
            "                                64)                                                               \n",
            "                                                                                                  \n",
            " max_pooling3d (MaxPooling3D)   (None, 6, 6, 15, 64  0           ['conv3d[0][0]']                 \n",
            "                                )                                                                 \n",
            "                                                                                                  \n",
            " dropout (Dropout)              (None, 6, 6, 15, 64  0           ['max_pooling3d[0][0]']          \n",
            "                                )                                                                 \n",
            "                                                                                                  \n",
            " batch_normalization (BatchNorm  (None, 6, 6, 15, 64  256        ['dropout[0][0]']                \n",
            " alization)                     )                                                                 \n",
            "                                                                                                  \n",
            " conv3d_1 (Conv3D)              (None, 6, 6, 15, 12  221312      ['batch_normalization[0][0]']    \n",
            "                                8)                                                                \n",
            "                                                                                                  \n",
            " max_pooling3d_1 (MaxPooling3D)  (None, 3, 3, 7, 128  0          ['conv3d_1[0][0]']               \n",
            "                                )                                                                 \n",
            "                                                                                                  \n",
            " dropout_1 (Dropout)            (None, 3, 3, 7, 128  0           ['max_pooling3d_1[0][0]']        \n",
            "                                )                                                                 \n",
            "                                                                                                  \n",
            " batch_normalization_1 (BatchNo  (None, 3, 3, 7, 128  512        ['dropout_1[0][0]']              \n",
            " rmalization)                   )                                                                 \n",
            "                                                                                                  \n",
            " conv3d_2 (Conv3D)              (None, 3, 3, 7, 256  884992      ['batch_normalization_1[0][0]']  \n",
            "                                )                                                                 \n",
            "                                                                                                  \n",
            " dropout_2 (Dropout)            (None, 3, 3, 7, 256  0           ['conv3d_2[0][0]']               \n",
            "                                )                                                                 \n",
            "                                                                                                  \n",
            " max_pooling3d_2 (MaxPooling3D)  (None, 1, 1, 3, 256  0          ['dropout_2[0][0]']              \n",
            "                                )                                                                 \n",
            "                                                                                                  \n",
            " batch_normalization_2 (BatchNo  (None, 1, 1, 3, 256  1024       ['max_pooling3d_2[0][0]']        \n",
            " rmalization)                   )                                                                 \n",
            "                                                                                                  \n",
            " reshape (Reshape)              (None, 1, 1, 768)    0           ['batch_normalization_2[0][0]']  \n",
            "                                                                                                  \n",
            " conv2d (Conv2D)                (None, 1, 1, 256)    1769728     ['reshape[0][0]']                \n",
            "                                                                                                  \n",
            " dropout_3 (Dropout)            (None, 1, 1, 256)    0           ['conv2d[0][0]']                 \n",
            "                                                                                                  \n",
            " FLATTEN1 (Flatten)             (None, 34560)        0           ['batch_normalization[0][0]']    \n",
            "                                                                                                  \n",
            " FLATTEN2 (Flatten)             (None, 8064)         0           ['batch_normalization_1[0][0]']  \n",
            "                                                                                                  \n",
            " FLATTEN3 (Flatten)             (None, 768)          0           ['batch_normalization_2[0][0]']  \n",
            "                                                                                                  \n",
            " FLATTEN4 (Flatten)             (None, 256)          0           ['dropout_3[0][0]']              \n",
            "                                                                                                  \n",
            " lambda (Lambda)                (None, 256)          0           ['FLATTEN1[0][0]']               \n",
            "                                                                                                  \n",
            " lambda_4 (Lambda)              (None, 256)          0           ['FLATTEN2[0][0]']               \n",
            "                                                                                                  \n",
            " lambda_8 (Lambda)              (None, 256)          0           ['FLATTEN3[0][0]']               \n",
            "                                                                                                  \n",
            " lambda_12 (Lambda)             (None, 256)          0           ['FLATTEN4[0][0]']               \n",
            "                                                                                                  \n",
            " dense (Dense)                  (None, 128)          32896       ['lambda[0][0]']                 \n",
            "                                                                                                  \n",
            " dense_4 (Dense)                (None, 128)          32896       ['lambda_4[0][0]']               \n",
            "                                                                                                  \n",
            " dense_8 (Dense)                (None, 128)          32896       ['lambda_8[0][0]']               \n",
            "                                                                                                  \n",
            " dense_12 (Dense)               (None, 128)          32896       ['lambda_12[0][0]']              \n",
            "                                                                                                  \n",
            " dropout_4 (Dropout)            (None, 128)          0           ['dense[0][0]']                  \n",
            "                                                                                                  \n",
            " lambda_1 (Lambda)              (None, 256)          0           ['FLATTEN1[0][0]']               \n",
            "                                                                                                  \n",
            " dropout_8 (Dropout)            (None, 128)          0           ['dense_4[0][0]']                \n",
            "                                                                                                  \n",
            " lambda_5 (Lambda)              (None, 256)          0           ['FLATTEN2[0][0]']               \n",
            "                                                                                                  \n",
            " dropout_12 (Dropout)           (None, 128)          0           ['dense_8[0][0]']                \n",
            "                                                                                                  \n",
            " lambda_9 (Lambda)              (None, 256)          0           ['FLATTEN3[0][0]']               \n",
            "                                                                                                  \n",
            " dropout_16 (Dropout)           (None, 128)          0           ['dense_12[0][0]']               \n",
            "                                                                                                  \n",
            " lambda_13 (Lambda)             (None, 0)            0           ['FLATTEN4[0][0]']               \n",
            "                                                                                                  \n",
            " concatenate (Concatenate)      (None, 384)          0           ['lambda_1[0][0]',               \n",
            "                                                                  'dropout_4[0][0]']              \n",
            "                                                                                                  \n",
            " concatenate_5 (Concatenate)    (None, 384)          0           ['lambda_5[0][0]',               \n",
            "                                                                  'dropout_8[0][0]']              \n",
            "                                                                                                  \n",
            " concatenate_10 (Concatenate)   (None, 384)          0           ['lambda_9[0][0]',               \n",
            "                                                                  'dropout_12[0][0]']             \n",
            "                                                                                                  \n",
            " concatenate_15 (Concatenate)   (None, 128)          0           ['lambda_13[0][0]',              \n",
            "                                                                  'dropout_16[0][0]']             \n",
            "                                                                                                  \n",
            " dense_1 (Dense)                (None, 128)          49280       ['concatenate[0][0]']            \n",
            "                                                                                                  \n",
            " dense_5 (Dense)                (None, 128)          49280       ['concatenate_5[0][0]']          \n",
            "                                                                                                  \n",
            " dense_9 (Dense)                (None, 128)          49280       ['concatenate_10[0][0]']         \n",
            "                                                                                                  \n",
            " dense_13 (Dense)               (None, 128)          16512       ['concatenate_15[0][0]']         \n",
            "                                                                                                  \n",
            " dropout_5 (Dropout)            (None, 128)          0           ['dense_1[0][0]']                \n",
            "                                                                                                  \n",
            " dropout_9 (Dropout)            (None, 128)          0           ['dense_5[0][0]']                \n",
            "                                                                                                  \n",
            " dropout_13 (Dropout)           (None, 128)          0           ['dense_9[0][0]']                \n",
            "                                                                                                  \n",
            " dropout_17 (Dropout)           (None, 128)          0           ['dense_13[0][0]']               \n",
            "                                                                                                  \n",
            " lambda_2 (Lambda)              (None, 128)          0           ['dropout_5[0][0]']              \n",
            "                                                                                                  \n",
            " lambda_6 (Lambda)              (None, 128)          0           ['dropout_9[0][0]']              \n",
            "                                                                                                  \n",
            " lambda_10 (Lambda)             (None, 128)          0           ['dropout_13[0][0]']             \n",
            "                                                                                                  \n",
            " lambda_14 (Lambda)             (None, 128)          0           ['dropout_17[0][0]']             \n",
            "                                                                                                  \n",
            " concatenate_1 (Concatenate)    (None, 256)          0           ['lambda_2[0][0]',               \n",
            "                                                                  'dropout_5[0][0]']              \n",
            "                                                                                                  \n",
            " concatenate_6 (Concatenate)    (None, 256)          0           ['lambda_6[0][0]',               \n",
            "                                                                  'dropout_9[0][0]']              \n",
            "                                                                                                  \n",
            " concatenate_11 (Concatenate)   (None, 256)          0           ['lambda_10[0][0]',              \n",
            "                                                                  'dropout_13[0][0]']             \n",
            "                                                                                                  \n",
            " concatenate_16 (Concatenate)   (None, 256)          0           ['lambda_14[0][0]',              \n",
            "                                                                  'dropout_17[0][0]']             \n",
            "                                                                                                  \n",
            " dense_2 (Dense)                (None, 128)          32896       ['concatenate_1[0][0]']          \n",
            "                                                                                                  \n",
            " dense_6 (Dense)                (None, 128)          32896       ['concatenate_6[0][0]']          \n",
            "                                                                                                  \n",
            " dense_10 (Dense)               (None, 128)          32896       ['concatenate_11[0][0]']         \n",
            "                                                                                                  \n",
            " dense_14 (Dense)               (None, 128)          32896       ['concatenate_16[0][0]']         \n",
            "                                                                                                  \n",
            " dropout_6 (Dropout)            (None, 128)          0           ['dense_2[0][0]']                \n",
            "                                                                                                  \n",
            " dropout_10 (Dropout)           (None, 128)          0           ['dense_6[0][0]']                \n",
            "                                                                                                  \n",
            " dropout_14 (Dropout)           (None, 128)          0           ['dense_10[0][0]']               \n",
            "                                                                                                  \n",
            " dropout_18 (Dropout)           (None, 128)          0           ['dense_14[0][0]']               \n",
            "                                                                                                  \n",
            " lambda_3 (Lambda)              (None, 0)            0           ['dropout_6[0][0]']              \n",
            "                                                                                                  \n",
            " lambda_7 (Lambda)              (None, 0)            0           ['dropout_10[0][0]']             \n",
            "                                                                                                  \n",
            " lambda_11 (Lambda)             (None, 0)            0           ['dropout_14[0][0]']             \n",
            "                                                                                                  \n",
            " lambda_15 (Lambda)             (None, 0)            0           ['dropout_18[0][0]']             \n",
            "                                                                                                  \n",
            " concatenate_2 (Concatenate)    (None, 128)          0           ['lambda_3[0][0]',               \n",
            "                                                                  'dropout_6[0][0]']              \n",
            "                                                                                                  \n",
            " concatenate_7 (Concatenate)    (None, 128)          0           ['lambda_7[0][0]',               \n",
            "                                                                  'dropout_10[0][0]']             \n",
            "                                                                                                  \n",
            " concatenate_12 (Concatenate)   (None, 128)          0           ['lambda_11[0][0]',              \n",
            "                                                                  'dropout_14[0][0]']             \n",
            "                                                                                                  \n",
            " concatenate_17 (Concatenate)   (None, 128)          0           ['lambda_15[0][0]',              \n",
            "                                                                  'dropout_18[0][0]']             \n",
            "                                                                                                  \n",
            " concatenate_3 (Concatenate)    (None, 256)          0           ['dropout_4[0][0]',              \n",
            "                                                                  'dropout_5[0][0]']              \n",
            "                                                                                                  \n",
            " dense_3 (Dense)                (None, 128)          16512       ['concatenate_2[0][0]']          \n",
            "                                                                                                  \n",
            " concatenate_8 (Concatenate)    (None, 256)          0           ['dropout_8[0][0]',              \n",
            "                                                                  'dropout_9[0][0]']              \n",
            "                                                                                                  \n",
            " dense_7 (Dense)                (None, 128)          16512       ['concatenate_7[0][0]']          \n",
            "                                                                                                  \n",
            " concatenate_13 (Concatenate)   (None, 256)          0           ['dropout_12[0][0]',             \n",
            "                                                                  'dropout_13[0][0]']             \n",
            "                                                                                                  \n",
            " dense_11 (Dense)               (None, 128)          16512       ['concatenate_12[0][0]']         \n",
            "                                                                                                  \n",
            " concatenate_18 (Concatenate)   (None, 256)          0           ['dropout_16[0][0]',             \n",
            "                                                                  'dropout_17[0][0]']             \n",
            "                                                                                                  \n",
            " dense_15 (Dense)               (None, 128)          16512       ['concatenate_17[0][0]']         \n",
            "                                                                                                  \n",
            " concatenate_4 (Concatenate)    (None, 384)          0           ['concatenate_3[0][0]',          \n",
            "                                                                  'dropout_6[0][0]']              \n",
            "                                                                                                  \n",
            " dropout_7 (Dropout)            (None, 128)          0           ['dense_3[0][0]']                \n",
            "                                                                                                  \n",
            " concatenate_9 (Concatenate)    (None, 384)          0           ['concatenate_8[0][0]',          \n",
            "                                                                  'dropout_10[0][0]']             \n",
            "                                                                                                  \n",
            " dropout_11 (Dropout)           (None, 128)          0           ['dense_7[0][0]']                \n",
            "                                                                                                  \n",
            " concatenate_14 (Concatenate)   (None, 384)          0           ['concatenate_13[0][0]',         \n",
            "                                                                  'dropout_14[0][0]']             \n",
            "                                                                                                  \n",
            " dropout_15 (Dropout)           (None, 128)          0           ['dense_11[0][0]']               \n",
            "                                                                                                  \n",
            " concatenate_19 (Concatenate)   (None, 384)          0           ['concatenate_18[0][0]',         \n",
            "                                                                  'dropout_18[0][0]']             \n",
            "                                                                                                  \n",
            " dropout_19 (Dropout)           (None, 128)          0           ['dense_15[0][0]']               \n",
            "                                                                                                  \n",
            " feature_dense1 (Concatenate)   (None, 512)          0           ['concatenate_4[0][0]',          \n",
            "                                                                  'dropout_7[0][0]']              \n",
            "                                                                                                  \n",
            " feature_dense2 (Concatenate)   (None, 512)          0           ['concatenate_9[0][0]',          \n",
            "                                                                  'dropout_11[0][0]']             \n",
            "                                                                                                  \n",
            " feature_dense3 (Concatenate)   (None, 512)          0           ['concatenate_14[0][0]',         \n",
            "                                                                  'dropout_15[0][0]']             \n",
            "                                                                                                  \n",
            " feature_dense4 (Concatenate)   (None, 512)          0           ['concatenate_19[0][0]',         \n",
            "                                                                  'dropout_19[0][0]']             \n",
            "                                                                                                  \n",
            " add (Add)                      (None, 512)          0           ['feature_dense1[0][0]',         \n",
            "                                                                  'feature_dense2[0][0]',         \n",
            "                                                                  'feature_dense3[0][0]',         \n",
            "                                                                  'feature_dense4[0][0]']         \n",
            "                                                                                                  \n",
            " lambda_16 (Lambda)             (None, 128)          0           ['add[0][0]']                    \n",
            "                                                                                                  \n",
            " dense_16 (Dense)               (None, 256)          33024       ['lambda_16[0][0]']              \n",
            "                                                                                                  \n",
            " dropout_20 (Dropout)           (None, 256)          0           ['dense_16[0][0]']               \n",
            "                                                                                                  \n",
            " lambda_17 (Lambda)             (None, 128)          0           ['add[0][0]']                    \n",
            "                                                                                                  \n",
            " concatenate_20 (Concatenate)   (None, 384)          0           ['lambda_17[0][0]',              \n",
            "                                                                  'dropout_20[0][0]']             \n",
            "                                                                                                  \n",
            " dense_17 (Dense)               (None, 256)          98560       ['concatenate_20[0][0]']         \n",
            "                                                                                                  \n",
            " dropout_21 (Dropout)           (None, 256)          0           ['dense_17[0][0]']               \n",
            "                                                                                                  \n",
            " lambda_18 (Lambda)             (None, 128)          0           ['dropout_21[0][0]']             \n",
            "                                                                                                  \n",
            " concatenate_21 (Concatenate)   (None, 384)          0           ['lambda_18[0][0]',              \n",
            "                                                                  'dropout_21[0][0]']             \n",
            "                                                                                                  \n",
            " dense_18 (Dense)               (None, 256)          98560       ['concatenate_21[0][0]']         \n",
            "                                                                                                  \n",
            " dropout_22 (Dropout)           (None, 256)          0           ['dense_18[0][0]']               \n",
            "                                                                                                  \n",
            " lambda_19 (Lambda)             (None, 128)          0           ['dropout_22[0][0]']             \n",
            "                                                                                                  \n",
            " concatenate_22 (Concatenate)   (None, 384)          0           ['lambda_19[0][0]',              \n",
            "                                                                  'dropout_22[0][0]']             \n",
            "                                                                                                  \n",
            " concatenate_23 (Concatenate)   (None, 512)          0           ['dropout_20[0][0]',             \n",
            "                                                                  'dropout_21[0][0]']             \n",
            "                                                                                                  \n",
            " dense_19 (Dense)               (None, 256)          98560       ['concatenate_22[0][0]']         \n",
            "                                                                                                  \n",
            " concatenate_24 (Concatenate)   (None, 768)          0           ['concatenate_23[0][0]',         \n",
            "                                                                  'dropout_22[0][0]']             \n",
            "                                                                                                  \n",
            " dropout_23 (Dropout)           (None, 256)          0           ['dense_19[0][0]']               \n",
            "                                                                                                  \n",
            " features_dense (Concatenate)   (None, 1024)         0           ['concatenate_24[0][0]',         \n",
            "                                                                  'dropout_23[0][0]']             \n",
            "                                                                                                  \n",
            " dense_20 (Dense)               (None, 16)           16400       ['features_dense[0][0]']         \n",
            "                                                                                                  \n",
            "==================================================================================================\n",
            "Total params: 3,718,288\n",
            "Trainable params: 3,717,392\n",
            "Non-trainable params: 896\n",
            "__________________________________________________________________________________________________\n"
          ]
        }
      ],
      "source": [
        "model.summary()"
      ]
    },
    {
      "cell_type": "code",
      "execution_count": 32,
      "metadata": {
        "id": "TydE_j9DfbWP"
      },
      "outputs": [],
      "source": [
        "#plot_model(model, to_file='HybridSpinalNet_model_plot.png', show_shapes=True, show_layer_names=True, dpi = 600)"
      ]
    },
    {
      "cell_type": "markdown",
      "source": [
        "# Model compilation"
      ],
      "metadata": {
        "id": "ZsCyn4FGvSxr"
      }
    },
    {
      "cell_type": "code",
      "execution_count": 33,
      "metadata": {
        "id": "ytGRnwBw6pVB"
      },
      "outputs": [],
      "source": [
        "# compiling the model\n",
        "adam = Adam(learning_rate = 0.001, decay=1e-06)\n",
        "model.compile(loss='categorical_crossentropy', optimizer=adam, metrics=['accuracy'])"
      ]
    },
    {
      "cell_type": "code",
      "execution_count": 34,
      "metadata": {
        "id": "uP9K_QYH6pVB"
      },
      "outputs": [],
      "source": [
        "# checkpoint\n",
        "filepath = \"best-model.hdf5\"\n",
        "checkpoint = ModelCheckpoint(filepath, monitor='accuracy', verbose=1, save_best_only=True, mode='max')\n",
        "callbacks_list = [checkpoint]"
      ]
    },
    {
      "cell_type": "markdown",
      "source": [
        "# Train the model and note the training time"
      ],
      "metadata": {
        "id": "OsnnfoVBvXiy"
      }
    },
    {
      "cell_type": "code",
      "execution_count": 35,
      "metadata": {
        "colab": {
          "base_uri": "https://localhost:8080/"
        },
        "id": "6BWxYyVj6pVB",
        "outputId": "5eb340cb-07db-47f8-a81f-62cddbd95525"
      },
      "outputs": [
        {
          "output_type": "stream",
          "name": "stdout",
          "text": [
            "Epoch 1/100\n",
            "11/11 [==============================] - ETA: 0s - loss: 2.5865 - accuracy: 0.2636\n",
            "Epoch 1: accuracy improved from -inf to 0.26356, saving model to best-model.hdf5\n",
            "11/11 [==============================] - 8s 234ms/step - loss: 2.5865 - accuracy: 0.2636 - val_loss: 2.6583 - val_accuracy: 0.1753\n",
            "Epoch 2/100\n",
            "11/11 [==============================] - ETA: 0s - loss: 1.4019 - accuracy: 0.5354\n",
            "Epoch 2: accuracy improved from 0.26356 to 0.53543, saving model to best-model.hdf5\n",
            "11/11 [==============================] - 1s 136ms/step - loss: 1.4019 - accuracy: 0.5354 - val_loss: 2.3701 - val_accuracy: 0.1948\n",
            "Epoch 3/100\n",
            "11/11 [==============================] - ETA: 0s - loss: 0.9183 - accuracy: 0.6811\n",
            "Epoch 3: accuracy improved from 0.53543 to 0.68113, saving model to best-model.hdf5\n",
            "11/11 [==============================] - 1s 129ms/step - loss: 0.9183 - accuracy: 0.6811 - val_loss: 1.8233 - val_accuracy: 0.6266\n",
            "Epoch 4/100\n",
            "11/11 [==============================] - ETA: 0s - loss: 0.6257 - accuracy: 0.7856\n",
            "Epoch 4: accuracy improved from 0.68113 to 0.78561, saving model to best-model.hdf5\n",
            "11/11 [==============================] - 1s 124ms/step - loss: 0.6257 - accuracy: 0.7856 - val_loss: 1.3063 - val_accuracy: 0.6851\n",
            "Epoch 5/100\n",
            "11/11 [==============================] - ETA: 0s - loss: 0.4529 - accuracy: 0.8449\n",
            "Epoch 5: accuracy improved from 0.78561 to 0.84490, saving model to best-model.hdf5\n",
            "11/11 [==============================] - 1s 125ms/step - loss: 0.4529 - accuracy: 0.8449 - val_loss: 1.2335 - val_accuracy: 0.5779\n",
            "Epoch 6/100\n",
            "11/11 [==============================] - ETA: 0s - loss: 0.2948 - accuracy: 0.8966\n",
            "Epoch 6: accuracy improved from 0.84490 to 0.89660, saving model to best-model.hdf5\n",
            "11/11 [==============================] - 2s 145ms/step - loss: 0.2948 - accuracy: 0.8966 - val_loss: 1.5672 - val_accuracy: 0.4286\n",
            "Epoch 7/100\n",
            "11/11 [==============================] - ETA: 0s - loss: 0.2022 - accuracy: 0.9382\n",
            "Epoch 7: accuracy improved from 0.89660 to 0.93818, saving model to best-model.hdf5\n",
            "11/11 [==============================] - 1s 124ms/step - loss: 0.2022 - accuracy: 0.9382 - val_loss: 2.1064 - val_accuracy: 0.3084\n",
            "Epoch 8/100\n",
            "11/11 [==============================] - ETA: 0s - loss: 0.1396 - accuracy: 0.9541\n",
            "Epoch 8: accuracy improved from 0.93818 to 0.95409, saving model to best-model.hdf5\n",
            "11/11 [==============================] - 1s 125ms/step - loss: 0.1396 - accuracy: 0.9541 - val_loss: 3.3400 - val_accuracy: 0.2240\n",
            "Epoch 9/100\n",
            "11/11 [==============================] - ETA: 0s - loss: 0.1061 - accuracy: 0.9664\n",
            "Epoch 9: accuracy improved from 0.95409 to 0.96638, saving model to best-model.hdf5\n",
            "11/11 [==============================] - 1s 124ms/step - loss: 0.1061 - accuracy: 0.9664 - val_loss: 3.4421 - val_accuracy: 0.2403\n",
            "Epoch 10/100\n",
            "11/11 [==============================] - ETA: 0s - loss: 0.0736 - accuracy: 0.9754\n",
            "Epoch 10: accuracy improved from 0.96638 to 0.97542, saving model to best-model.hdf5\n",
            "11/11 [==============================] - 1s 124ms/step - loss: 0.0736 - accuracy: 0.9754 - val_loss: 3.7095 - val_accuracy: 0.2565\n",
            "Epoch 11/100\n",
            "11/11 [==============================] - ETA: 0s - loss: 0.0700 - accuracy: 0.9776\n",
            "Epoch 11: accuracy improved from 0.97542 to 0.97758, saving model to best-model.hdf5\n",
            "11/11 [==============================] - 1s 124ms/step - loss: 0.0700 - accuracy: 0.9776 - val_loss: 4.5580 - val_accuracy: 0.1786\n",
            "Epoch 12/100\n",
            "11/11 [==============================] - ETA: 0s - loss: 0.0507 - accuracy: 0.9826\n",
            "Epoch 12: accuracy improved from 0.97758 to 0.98265, saving model to best-model.hdf5\n",
            "11/11 [==============================] - 1s 124ms/step - loss: 0.0507 - accuracy: 0.9826 - val_loss: 4.5217 - val_accuracy: 0.1786\n",
            "Epoch 13/100\n",
            "11/11 [==============================] - ETA: 0s - loss: 0.0390 - accuracy: 0.9863\n",
            "Epoch 13: accuracy improved from 0.98265 to 0.98626, saving model to best-model.hdf5\n",
            "11/11 [==============================] - 1s 125ms/step - loss: 0.0390 - accuracy: 0.9863 - val_loss: 4.7129 - val_accuracy: 0.2630\n",
            "Epoch 14/100\n",
            "11/11 [==============================] - ETA: 0s - loss: 0.0343 - accuracy: 0.9899\n",
            "Epoch 14: accuracy improved from 0.98626 to 0.98988, saving model to best-model.hdf5\n",
            "11/11 [==============================] - 1s 124ms/step - loss: 0.0343 - accuracy: 0.9899 - val_loss: 4.9309 - val_accuracy: 0.2403\n",
            "Epoch 15/100\n",
            "11/11 [==============================] - ETA: 0s - loss: 0.0366 - accuracy: 0.9892\n",
            "Epoch 15: accuracy did not improve from 0.98988\n",
            "11/11 [==============================] - 1s 99ms/step - loss: 0.0366 - accuracy: 0.9892 - val_loss: 5.4660 - val_accuracy: 0.2240\n",
            "Epoch 16/100\n",
            "11/11 [==============================] - ETA: 0s - loss: 0.0268 - accuracy: 0.9924\n",
            "Epoch 16: accuracy improved from 0.98988 to 0.99241, saving model to best-model.hdf5\n",
            "11/11 [==============================] - 1s 125ms/step - loss: 0.0268 - accuracy: 0.9924 - val_loss: 5.5114 - val_accuracy: 0.2630\n",
            "Epoch 17/100\n",
            "11/11 [==============================] - ETA: 0s - loss: 0.0296 - accuracy: 0.9906\n",
            "Epoch 17: accuracy did not improve from 0.99241\n",
            "11/11 [==============================] - 1s 100ms/step - loss: 0.0296 - accuracy: 0.9906 - val_loss: 6.2338 - val_accuracy: 0.1851\n",
            "Epoch 18/100\n",
            "11/11 [==============================] - ETA: 0s - loss: 0.0313 - accuracy: 0.9884\n",
            "Epoch 18: accuracy did not improve from 0.99241\n",
            "11/11 [==============================] - 1s 99ms/step - loss: 0.0313 - accuracy: 0.9884 - val_loss: 6.3331 - val_accuracy: 0.2435\n",
            "Epoch 19/100\n",
            "11/11 [==============================] - ETA: 0s - loss: 0.0294 - accuracy: 0.9899\n",
            "Epoch 19: accuracy did not improve from 0.99241\n",
            "11/11 [==============================] - 1s 99ms/step - loss: 0.0294 - accuracy: 0.9899 - val_loss: 3.7468 - val_accuracy: 0.3734\n",
            "Epoch 20/100\n",
            "11/11 [==============================] - ETA: 0s - loss: 0.0195 - accuracy: 0.9939\n",
            "Epoch 20: accuracy improved from 0.99241 to 0.99385, saving model to best-model.hdf5\n",
            "11/11 [==============================] - 1s 126ms/step - loss: 0.0195 - accuracy: 0.9939 - val_loss: 3.3677 - val_accuracy: 0.4513\n",
            "Epoch 21/100\n",
            "11/11 [==============================] - ETA: 0s - loss: 0.0221 - accuracy: 0.9946\n",
            "Epoch 21: accuracy improved from 0.99385 to 0.99458, saving model to best-model.hdf5\n",
            "11/11 [==============================] - 1s 126ms/step - loss: 0.0221 - accuracy: 0.9946 - val_loss: 4.2159 - val_accuracy: 0.4058\n",
            "Epoch 22/100\n",
            "11/11 [==============================] - ETA: 0s - loss: 0.0244 - accuracy: 0.9920\n",
            "Epoch 22: accuracy did not improve from 0.99458\n",
            "11/11 [==============================] - 1s 99ms/step - loss: 0.0244 - accuracy: 0.9920 - val_loss: 3.3562 - val_accuracy: 0.4610\n",
            "Epoch 23/100\n",
            "11/11 [==============================] - ETA: 0s - loss: 0.0377 - accuracy: 0.9906\n",
            "Epoch 23: accuracy did not improve from 0.99458\n",
            "11/11 [==============================] - 1s 99ms/step - loss: 0.0377 - accuracy: 0.9906 - val_loss: 4.0813 - val_accuracy: 0.4286\n",
            "Epoch 24/100\n",
            "11/11 [==============================] - ETA: 0s - loss: 0.0481 - accuracy: 0.9866\n",
            "Epoch 24: accuracy did not improve from 0.99458\n",
            "11/11 [==============================] - 1s 99ms/step - loss: 0.0481 - accuracy: 0.9866 - val_loss: 4.1517 - val_accuracy: 0.4351\n",
            "Epoch 25/100\n",
            "11/11 [==============================] - ETA: 0s - loss: 0.0299 - accuracy: 0.9917\n",
            "Epoch 25: accuracy did not improve from 0.99458\n",
            "11/11 [==============================] - 1s 99ms/step - loss: 0.0299 - accuracy: 0.9917 - val_loss: 1.9756 - val_accuracy: 0.6234\n",
            "Epoch 26/100\n",
            "11/11 [==============================] - ETA: 0s - loss: 0.0283 - accuracy: 0.9931\n",
            "Epoch 26: accuracy did not improve from 0.99458\n",
            "11/11 [==============================] - 1s 99ms/step - loss: 0.0283 - accuracy: 0.9931 - val_loss: 2.2730 - val_accuracy: 0.6201\n",
            "Epoch 27/100\n",
            "11/11 [==============================] - ETA: 0s - loss: 0.0234 - accuracy: 0.9920\n",
            "Epoch 27: accuracy did not improve from 0.99458\n",
            "11/11 [==============================] - 1s 99ms/step - loss: 0.0234 - accuracy: 0.9920 - val_loss: 2.0275 - val_accuracy: 0.6039\n",
            "Epoch 28/100\n",
            "11/11 [==============================] - ETA: 0s - loss: 0.0161 - accuracy: 0.9960\n",
            "Epoch 28: accuracy improved from 0.99458 to 0.99602, saving model to best-model.hdf5\n",
            "11/11 [==============================] - 1s 124ms/step - loss: 0.0161 - accuracy: 0.9960 - val_loss: 1.8879 - val_accuracy: 0.6396\n",
            "Epoch 29/100\n",
            "11/11 [==============================] - ETA: 0s - loss: 0.0152 - accuracy: 0.9967\n",
            "Epoch 29: accuracy improved from 0.99602 to 0.99675, saving model to best-model.hdf5\n",
            "11/11 [==============================] - 1s 124ms/step - loss: 0.0152 - accuracy: 0.9967 - val_loss: 1.9486 - val_accuracy: 0.6104\n",
            "Epoch 30/100\n",
            "11/11 [==============================] - ETA: 0s - loss: 0.0127 - accuracy: 0.9971\n",
            "Epoch 30: accuracy improved from 0.99675 to 0.99711, saving model to best-model.hdf5\n",
            "11/11 [==============================] - 1s 127ms/step - loss: 0.0127 - accuracy: 0.9971 - val_loss: 1.3361 - val_accuracy: 0.6883\n",
            "Epoch 31/100\n",
            "11/11 [==============================] - ETA: 0s - loss: 0.0093 - accuracy: 0.9982\n",
            "Epoch 31: accuracy improved from 0.99711 to 0.99819, saving model to best-model.hdf5\n",
            "11/11 [==============================] - 1s 131ms/step - loss: 0.0093 - accuracy: 0.9982 - val_loss: 1.0980 - val_accuracy: 0.7208\n",
            "Epoch 32/100\n",
            "11/11 [==============================] - ETA: 0s - loss: 0.0081 - accuracy: 0.9978\n",
            "Epoch 32: accuracy did not improve from 0.99819\n",
            "11/11 [==============================] - 1s 99ms/step - loss: 0.0081 - accuracy: 0.9978 - val_loss: 1.4410 - val_accuracy: 0.6948\n",
            "Epoch 33/100\n",
            "11/11 [==============================] - ETA: 0s - loss: 0.0081 - accuracy: 0.9967\n",
            "Epoch 33: accuracy did not improve from 0.99819\n",
            "11/11 [==============================] - 1s 100ms/step - loss: 0.0081 - accuracy: 0.9967 - val_loss: 0.8432 - val_accuracy: 0.7695\n",
            "Epoch 34/100\n",
            "11/11 [==============================] - ETA: 0s - loss: 0.0051 - accuracy: 0.9986\n",
            "Epoch 34: accuracy improved from 0.99819 to 0.99855, saving model to best-model.hdf5\n",
            "11/11 [==============================] - 1s 125ms/step - loss: 0.0051 - accuracy: 0.9986 - val_loss: 0.5539 - val_accuracy: 0.8279\n",
            "Epoch 35/100\n",
            "11/11 [==============================] - ETA: 0s - loss: 0.0080 - accuracy: 0.9964\n",
            "Epoch 35: accuracy did not improve from 0.99855\n",
            "11/11 [==============================] - 1s 99ms/step - loss: 0.0080 - accuracy: 0.9964 - val_loss: 0.3487 - val_accuracy: 0.9091\n",
            "Epoch 36/100\n",
            "11/11 [==============================] - ETA: 0s - loss: 0.0053 - accuracy: 0.9978\n",
            "Epoch 36: accuracy did not improve from 0.99855\n",
            "11/11 [==============================] - 1s 100ms/step - loss: 0.0053 - accuracy: 0.9978 - val_loss: 0.2348 - val_accuracy: 0.9351\n",
            "Epoch 37/100\n",
            "11/11 [==============================] - ETA: 0s - loss: 0.0099 - accuracy: 0.9975\n",
            "Epoch 37: accuracy did not improve from 0.99855\n",
            "11/11 [==============================] - 1s 100ms/step - loss: 0.0099 - accuracy: 0.9975 - val_loss: 0.3203 - val_accuracy: 0.9221\n",
            "Epoch 38/100\n",
            "11/11 [==============================] - ETA: 0s - loss: 0.0061 - accuracy: 0.9986\n",
            "Epoch 38: accuracy did not improve from 0.99855\n",
            "11/11 [==============================] - 1s 99ms/step - loss: 0.0061 - accuracy: 0.9986 - val_loss: 0.2152 - val_accuracy: 0.9351\n",
            "Epoch 39/100\n",
            "11/11 [==============================] - ETA: 0s - loss: 0.0068 - accuracy: 0.9967\n",
            "Epoch 39: accuracy did not improve from 0.99855\n",
            "11/11 [==============================] - 1s 99ms/step - loss: 0.0068 - accuracy: 0.9967 - val_loss: 0.0738 - val_accuracy: 0.9740\n",
            "Epoch 40/100\n",
            "11/11 [==============================] - ETA: 0s - loss: 0.0068 - accuracy: 0.9982\n",
            "Epoch 40: accuracy did not improve from 0.99855\n",
            "11/11 [==============================] - 1s 100ms/step - loss: 0.0068 - accuracy: 0.9982 - val_loss: 0.0624 - val_accuracy: 0.9773\n",
            "Epoch 41/100\n",
            "11/11 [==============================] - ETA: 0s - loss: 0.0063 - accuracy: 0.9982\n",
            "Epoch 41: accuracy did not improve from 0.99855\n",
            "11/11 [==============================] - 1s 99ms/step - loss: 0.0063 - accuracy: 0.9982 - val_loss: 0.0553 - val_accuracy: 0.9870\n",
            "Epoch 42/100\n",
            "11/11 [==============================] - ETA: 0s - loss: 0.0057 - accuracy: 0.9978\n",
            "Epoch 42: accuracy did not improve from 0.99855\n",
            "11/11 [==============================] - 1s 99ms/step - loss: 0.0057 - accuracy: 0.9978 - val_loss: 0.0712 - val_accuracy: 0.9805\n",
            "Epoch 43/100\n",
            "11/11 [==============================] - ETA: 0s - loss: 0.0041 - accuracy: 0.9982\n",
            "Epoch 43: accuracy did not improve from 0.99855\n",
            "11/11 [==============================] - 1s 99ms/step - loss: 0.0041 - accuracy: 0.9982 - val_loss: 0.0819 - val_accuracy: 0.9740\n",
            "Epoch 44/100\n",
            "11/11 [==============================] - ETA: 0s - loss: 0.0042 - accuracy: 0.9982\n",
            "Epoch 44: accuracy did not improve from 0.99855\n",
            "11/11 [==============================] - 1s 99ms/step - loss: 0.0042 - accuracy: 0.9982 - val_loss: 0.0522 - val_accuracy: 0.9903\n",
            "Epoch 45/100\n",
            "11/11 [==============================] - ETA: 0s - loss: 0.0056 - accuracy: 0.9986\n",
            "Epoch 45: accuracy did not improve from 0.99855\n",
            "11/11 [==============================] - 1s 99ms/step - loss: 0.0056 - accuracy: 0.9986 - val_loss: 0.0781 - val_accuracy: 0.9773\n",
            "Epoch 46/100\n",
            "11/11 [==============================] - ETA: 0s - loss: 0.0174 - accuracy: 0.9939\n",
            "Epoch 46: accuracy did not improve from 0.99855\n",
            "11/11 [==============================] - 1s 99ms/step - loss: 0.0174 - accuracy: 0.9939 - val_loss: 0.1098 - val_accuracy: 0.9675\n",
            "Epoch 47/100\n",
            "11/11 [==============================] - ETA: 0s - loss: 0.0185 - accuracy: 0.9942\n",
            "Epoch 47: accuracy did not improve from 0.99855\n",
            "11/11 [==============================] - 1s 99ms/step - loss: 0.0185 - accuracy: 0.9942 - val_loss: 0.0399 - val_accuracy: 0.9870\n",
            "Epoch 48/100\n",
            "11/11 [==============================] - ETA: 0s - loss: 0.0070 - accuracy: 0.9982\n",
            "Epoch 48: accuracy did not improve from 0.99855\n",
            "11/11 [==============================] - 1s 101ms/step - loss: 0.0070 - accuracy: 0.9982 - val_loss: 0.1007 - val_accuracy: 0.9643\n",
            "Epoch 49/100\n",
            "11/11 [==============================] - ETA: 0s - loss: 0.0098 - accuracy: 0.9978\n",
            "Epoch 49: accuracy did not improve from 0.99855\n",
            "11/11 [==============================] - 1s 99ms/step - loss: 0.0098 - accuracy: 0.9978 - val_loss: 0.0183 - val_accuracy: 0.9935\n",
            "Epoch 50/100\n",
            "11/11 [==============================] - ETA: 0s - loss: 0.0022 - accuracy: 0.9996\n",
            "Epoch 50: accuracy improved from 0.99855 to 0.99964, saving model to best-model.hdf5\n",
            "11/11 [==============================] - 1s 125ms/step - loss: 0.0022 - accuracy: 0.9996 - val_loss: 0.0237 - val_accuracy: 0.9935\n",
            "Epoch 51/100\n",
            "11/11 [==============================] - ETA: 0s - loss: 0.0041 - accuracy: 0.9978\n",
            "Epoch 51: accuracy did not improve from 0.99964\n",
            "11/11 [==============================] - 1s 99ms/step - loss: 0.0041 - accuracy: 0.9978 - val_loss: 0.0267 - val_accuracy: 0.9903\n",
            "Epoch 52/100\n",
            "11/11 [==============================] - ETA: 0s - loss: 0.0064 - accuracy: 0.9978\n",
            "Epoch 52: accuracy did not improve from 0.99964\n",
            "11/11 [==============================] - 1s 99ms/step - loss: 0.0064 - accuracy: 0.9978 - val_loss: 0.0098 - val_accuracy: 0.9935\n",
            "Epoch 53/100\n",
            "11/11 [==============================] - ETA: 0s - loss: 0.0031 - accuracy: 0.9989\n",
            "Epoch 53: accuracy did not improve from 0.99964\n",
            "11/11 [==============================] - 1s 99ms/step - loss: 0.0031 - accuracy: 0.9989 - val_loss: 0.0133 - val_accuracy: 0.9935\n",
            "Epoch 54/100\n",
            "11/11 [==============================] - ETA: 0s - loss: 0.0030 - accuracy: 0.9993\n",
            "Epoch 54: accuracy did not improve from 0.99964\n",
            "11/11 [==============================] - 1s 99ms/step - loss: 0.0030 - accuracy: 0.9993 - val_loss: 0.0085 - val_accuracy: 0.9968\n",
            "Epoch 55/100\n",
            "11/11 [==============================] - ETA: 0s - loss: 0.0015 - accuracy: 0.9996\n",
            "Epoch 55: accuracy did not improve from 0.99964\n",
            "11/11 [==============================] - 1s 100ms/step - loss: 0.0015 - accuracy: 0.9996 - val_loss: 0.0065 - val_accuracy: 0.9968\n",
            "Epoch 56/100\n",
            "11/11 [==============================] - ETA: 0s - loss: 0.0098 - accuracy: 0.9971\n",
            "Epoch 56: accuracy did not improve from 0.99964\n",
            "11/11 [==============================] - 1s 100ms/step - loss: 0.0098 - accuracy: 0.9971 - val_loss: 0.0153 - val_accuracy: 0.9968\n",
            "Epoch 57/100\n",
            "11/11 [==============================] - ETA: 0s - loss: 0.0075 - accuracy: 0.9971\n",
            "Epoch 57: accuracy did not improve from 0.99964\n",
            "11/11 [==============================] - 1s 99ms/step - loss: 0.0075 - accuracy: 0.9971 - val_loss: 0.0211 - val_accuracy: 0.9935\n",
            "Epoch 58/100\n",
            "11/11 [==============================] - ETA: 0s - loss: 0.0061 - accuracy: 0.9975\n",
            "Epoch 58: accuracy did not improve from 0.99964\n",
            "11/11 [==============================] - 1s 99ms/step - loss: 0.0061 - accuracy: 0.9975 - val_loss: 0.0130 - val_accuracy: 0.9968\n",
            "Epoch 59/100\n",
            "11/11 [==============================] - ETA: 0s - loss: 0.0071 - accuracy: 0.9978\n",
            "Epoch 59: accuracy did not improve from 0.99964\n",
            "11/11 [==============================] - 1s 100ms/step - loss: 0.0071 - accuracy: 0.9978 - val_loss: 0.0038 - val_accuracy: 1.0000\n",
            "Epoch 60/100\n",
            "11/11 [==============================] - ETA: 0s - loss: 0.0047 - accuracy: 0.9986\n",
            "Epoch 60: accuracy did not improve from 0.99964\n",
            "11/11 [==============================] - 1s 99ms/step - loss: 0.0047 - accuracy: 0.9986 - val_loss: 0.0042 - val_accuracy: 0.9968\n",
            "Epoch 61/100\n",
            "11/11 [==============================] - ETA: 0s - loss: 0.0036 - accuracy: 0.9982\n",
            "Epoch 61: accuracy did not improve from 0.99964\n",
            "11/11 [==============================] - 1s 100ms/step - loss: 0.0036 - accuracy: 0.9982 - val_loss: 0.0046 - val_accuracy: 0.9968\n",
            "Epoch 62/100\n",
            "11/11 [==============================] - ETA: 0s - loss: 0.0029 - accuracy: 0.9986\n",
            "Epoch 62: accuracy did not improve from 0.99964\n",
            "11/11 [==============================] - 1s 99ms/step - loss: 0.0029 - accuracy: 0.9986 - val_loss: 0.0030 - val_accuracy: 0.9968\n",
            "Epoch 63/100\n",
            "11/11 [==============================] - ETA: 0s - loss: 0.0024 - accuracy: 0.9993\n",
            "Epoch 63: accuracy did not improve from 0.99964\n",
            "11/11 [==============================] - 1s 100ms/step - loss: 0.0024 - accuracy: 0.9993 - val_loss: 0.0022 - val_accuracy: 1.0000\n",
            "Epoch 64/100\n",
            "11/11 [==============================] - ETA: 0s - loss: 0.0043 - accuracy: 0.9986\n",
            "Epoch 64: accuracy did not improve from 0.99964\n",
            "11/11 [==============================] - 1s 99ms/step - loss: 0.0043 - accuracy: 0.9986 - val_loss: 0.0029 - val_accuracy: 1.0000\n",
            "Epoch 65/100\n",
            "11/11 [==============================] - ETA: 0s - loss: 0.0050 - accuracy: 0.9993\n",
            "Epoch 65: accuracy did not improve from 0.99964\n",
            "11/11 [==============================] - 1s 99ms/step - loss: 0.0050 - accuracy: 0.9993 - val_loss: 0.0094 - val_accuracy: 0.9968\n",
            "Epoch 66/100\n",
            "11/11 [==============================] - ETA: 0s - loss: 0.0028 - accuracy: 0.9996\n",
            "Epoch 66: accuracy did not improve from 0.99964\n",
            "11/11 [==============================] - 1s 100ms/step - loss: 0.0028 - accuracy: 0.9996 - val_loss: 0.0043 - val_accuracy: 0.9968\n",
            "Epoch 67/100\n",
            "11/11 [==============================] - ETA: 0s - loss: 0.0040 - accuracy: 0.9986\n",
            "Epoch 67: accuracy did not improve from 0.99964\n",
            "11/11 [==============================] - 1s 99ms/step - loss: 0.0040 - accuracy: 0.9986 - val_loss: 0.0025 - val_accuracy: 1.0000\n",
            "Epoch 68/100\n",
            "11/11 [==============================] - ETA: 0s - loss: 0.0013 - accuracy: 1.0000    \n",
            "Epoch 68: accuracy improved from 0.99964 to 1.00000, saving model to best-model.hdf5\n",
            "11/11 [==============================] - 1s 125ms/step - loss: 0.0013 - accuracy: 1.0000 - val_loss: 0.0061 - val_accuracy: 0.9968\n",
            "Epoch 69/100\n",
            "11/11 [==============================] - ETA: 0s - loss: 4.6558e-04 - accuracy: 1.0000\n",
            "Epoch 69: accuracy did not improve from 1.00000\n",
            "11/11 [==============================] - 1s 99ms/step - loss: 4.6558e-04 - accuracy: 1.0000 - val_loss: 0.0063 - val_accuracy: 0.9968\n",
            "Epoch 70/100\n",
            "11/11 [==============================] - ETA: 0s - loss: 8.5427e-04 - accuracy: 1.0000\n",
            "Epoch 70: accuracy did not improve from 1.00000\n",
            "11/11 [==============================] - 1s 99ms/step - loss: 8.5427e-04 - accuracy: 1.0000 - val_loss: 0.0055 - val_accuracy: 0.9968\n",
            "Epoch 71/100\n",
            "11/11 [==============================] - ETA: 0s - loss: 7.6819e-04 - accuracy: 1.0000\n",
            "Epoch 71: accuracy did not improve from 1.00000\n",
            "11/11 [==============================] - 1s 99ms/step - loss: 7.6819e-04 - accuracy: 1.0000 - val_loss: 0.0067 - val_accuracy: 0.9968\n",
            "Epoch 72/100\n",
            "11/11 [==============================] - ETA: 0s - loss: 0.0017 - accuracy: 0.9993\n",
            "Epoch 72: accuracy did not improve from 1.00000\n",
            "11/11 [==============================] - 1s 99ms/step - loss: 0.0017 - accuracy: 0.9993 - val_loss: 0.0059 - val_accuracy: 0.9968\n",
            "Epoch 73/100\n",
            "11/11 [==============================] - ETA: 0s - loss: 6.5713e-04 - accuracy: 1.0000\n",
            "Epoch 73: accuracy did not improve from 1.00000\n",
            "11/11 [==============================] - 1s 100ms/step - loss: 6.5713e-04 - accuracy: 1.0000 - val_loss: 0.0060 - val_accuracy: 0.9968\n",
            "Epoch 74/100\n",
            "11/11 [==============================] - ETA: 0s - loss: 0.0012 - accuracy: 0.9996\n",
            "Epoch 74: accuracy did not improve from 1.00000\n",
            "11/11 [==============================] - 1s 100ms/step - loss: 0.0012 - accuracy: 0.9996 - val_loss: 0.0066 - val_accuracy: 0.9968\n",
            "Epoch 75/100\n",
            "11/11 [==============================] - ETA: 0s - loss: 0.0043 - accuracy: 0.9989\n",
            "Epoch 75: accuracy did not improve from 1.00000\n",
            "11/11 [==============================] - 1s 99ms/step - loss: 0.0043 - accuracy: 0.9989 - val_loss: 0.0069 - val_accuracy: 0.9968\n",
            "Epoch 76/100\n",
            "11/11 [==============================] - ETA: 0s - loss: 0.0038 - accuracy: 0.9996    \n",
            "Epoch 76: accuracy did not improve from 1.00000\n",
            "11/11 [==============================] - 1s 99ms/step - loss: 0.0038 - accuracy: 0.9996 - val_loss: 0.0196 - val_accuracy: 0.9968\n",
            "Epoch 77/100\n",
            "11/11 [==============================] - ETA: 0s - loss: 0.0031 - accuracy: 0.9989\n",
            "Epoch 77: accuracy did not improve from 1.00000\n",
            "11/11 [==============================] - 1s 99ms/step - loss: 0.0031 - accuracy: 0.9989 - val_loss: 1.3698e-04 - val_accuracy: 1.0000\n",
            "Epoch 78/100\n",
            "11/11 [==============================] - ETA: 0s - loss: 0.0068 - accuracy: 0.9978\n",
            "Epoch 78: accuracy did not improve from 1.00000\n",
            "11/11 [==============================] - 1s 99ms/step - loss: 0.0068 - accuracy: 0.9978 - val_loss: 0.0032 - val_accuracy: 0.9968\n",
            "Epoch 79/100\n",
            "11/11 [==============================] - ETA: 0s - loss: 0.0056 - accuracy: 0.9982\n",
            "Epoch 79: accuracy did not improve from 1.00000\n",
            "11/11 [==============================] - 1s 99ms/step - loss: 0.0056 - accuracy: 0.9982 - val_loss: 0.0100 - val_accuracy: 0.9968\n",
            "Epoch 80/100\n",
            "11/11 [==============================] - ETA: 0s - loss: 0.0132 - accuracy: 0.9978\n",
            "Epoch 80: accuracy did not improve from 1.00000\n",
            "11/11 [==============================] - 1s 99ms/step - loss: 0.0132 - accuracy: 0.9978 - val_loss: 0.0147 - val_accuracy: 0.9968\n",
            "Epoch 81/100\n",
            "11/11 [==============================] - ETA: 0s - loss: 0.0158 - accuracy: 0.9964\n",
            "Epoch 81: accuracy did not improve from 1.00000\n",
            "11/11 [==============================] - 1s 99ms/step - loss: 0.0158 - accuracy: 0.9964 - val_loss: 0.0298 - val_accuracy: 0.9935\n",
            "Epoch 82/100\n",
            "11/11 [==============================] - ETA: 0s - loss: 0.0206 - accuracy: 0.9949\n",
            "Epoch 82: accuracy did not improve from 1.00000\n",
            "11/11 [==============================] - 1s 99ms/step - loss: 0.0206 - accuracy: 0.9949 - val_loss: 0.0218 - val_accuracy: 0.9903\n",
            "Epoch 83/100\n",
            "11/11 [==============================] - ETA: 0s - loss: 0.0104 - accuracy: 0.9964\n",
            "Epoch 83: accuracy did not improve from 1.00000\n",
            "11/11 [==============================] - 1s 100ms/step - loss: 0.0104 - accuracy: 0.9964 - val_loss: 0.0044 - val_accuracy: 1.0000\n",
            "Epoch 84/100\n",
            "11/11 [==============================] - ETA: 0s - loss: 0.0096 - accuracy: 0.9971\n",
            "Epoch 84: accuracy did not improve from 1.00000\n",
            "11/11 [==============================] - 1s 99ms/step - loss: 0.0096 - accuracy: 0.9971 - val_loss: 0.0044 - val_accuracy: 0.9968\n",
            "Epoch 85/100\n",
            "11/11 [==============================] - ETA: 0s - loss: 0.0041 - accuracy: 0.9993\n",
            "Epoch 85: accuracy did not improve from 1.00000\n",
            "11/11 [==============================] - 1s 99ms/step - loss: 0.0041 - accuracy: 0.9993 - val_loss: 0.0159 - val_accuracy: 0.9935\n",
            "Epoch 86/100\n",
            "11/11 [==============================] - ETA: 0s - loss: 0.0042 - accuracy: 0.9982\n",
            "Epoch 86: accuracy did not improve from 1.00000\n",
            "11/11 [==============================] - 1s 99ms/step - loss: 0.0042 - accuracy: 0.9982 - val_loss: 0.0313 - val_accuracy: 0.9903\n",
            "Epoch 87/100\n",
            "11/11 [==============================] - ETA: 0s - loss: 0.0017 - accuracy: 0.9993\n",
            "Epoch 87: accuracy did not improve from 1.00000\n",
            "11/11 [==============================] - 1s 99ms/step - loss: 0.0017 - accuracy: 0.9993 - val_loss: 0.0097 - val_accuracy: 0.9935\n",
            "Epoch 88/100\n",
            "11/11 [==============================] - ETA: 0s - loss: 0.0035 - accuracy: 0.9996\n",
            "Epoch 88: accuracy did not improve from 1.00000\n",
            "11/11 [==============================] - 1s 99ms/step - loss: 0.0035 - accuracy: 0.9996 - val_loss: 0.0063 - val_accuracy: 0.9968\n",
            "Epoch 89/100\n",
            "11/11 [==============================] - ETA: 0s - loss: 0.0034 - accuracy: 0.9993\n",
            "Epoch 89: accuracy did not improve from 1.00000\n",
            "11/11 [==============================] - 1s 99ms/step - loss: 0.0034 - accuracy: 0.9993 - val_loss: 0.0109 - val_accuracy: 0.9968\n",
            "Epoch 90/100\n",
            "11/11 [==============================] - ETA: 0s - loss: 0.0012 - accuracy: 1.0000\n",
            "Epoch 90: accuracy did not improve from 1.00000\n",
            "11/11 [==============================] - 1s 99ms/step - loss: 0.0012 - accuracy: 1.0000 - val_loss: 0.0149 - val_accuracy: 0.9968\n",
            "Epoch 91/100\n",
            "11/11 [==============================] - ETA: 0s - loss: 0.0018 - accuracy: 0.9989\n",
            "Epoch 91: accuracy did not improve from 1.00000\n",
            "11/11 [==============================] - 1s 99ms/step - loss: 0.0018 - accuracy: 0.9989 - val_loss: 0.0037 - val_accuracy: 1.0000\n",
            "Epoch 92/100\n",
            "11/11 [==============================] - ETA: 0s - loss: 0.0023 - accuracy: 0.9989\n",
            "Epoch 92: accuracy did not improve from 1.00000\n",
            "11/11 [==============================] - 1s 100ms/step - loss: 0.0023 - accuracy: 0.9989 - val_loss: 0.0029 - val_accuracy: 1.0000\n",
            "Epoch 93/100\n",
            "11/11 [==============================] - ETA: 0s - loss: 0.0032 - accuracy: 0.9993\n",
            "Epoch 93: accuracy did not improve from 1.00000\n",
            "11/11 [==============================] - 1s 99ms/step - loss: 0.0032 - accuracy: 0.9993 - val_loss: 0.0018 - val_accuracy: 1.0000\n",
            "Epoch 94/100\n",
            "11/11 [==============================] - ETA: 0s - loss: 0.0095 - accuracy: 0.9989\n",
            "Epoch 94: accuracy did not improve from 1.00000\n",
            "11/11 [==============================] - 1s 105ms/step - loss: 0.0095 - accuracy: 0.9989 - val_loss: 0.0319 - val_accuracy: 0.9903\n",
            "Epoch 95/100\n",
            "11/11 [==============================] - ETA: 0s - loss: 0.0025 - accuracy: 0.9993\n",
            "Epoch 95: accuracy did not improve from 1.00000\n",
            "11/11 [==============================] - 1s 103ms/step - loss: 0.0025 - accuracy: 0.9993 - val_loss: 0.0256 - val_accuracy: 0.9870\n",
            "Epoch 96/100\n",
            "11/11 [==============================] - ETA: 0s - loss: 9.8922e-04 - accuracy: 1.0000\n",
            "Epoch 96: accuracy did not improve from 1.00000\n",
            "11/11 [==============================] - 1s 101ms/step - loss: 9.8922e-04 - accuracy: 1.0000 - val_loss: 0.0111 - val_accuracy: 0.9935\n",
            "Epoch 97/100\n",
            "11/11 [==============================] - ETA: 0s - loss: 0.0011 - accuracy: 0.9996\n",
            "Epoch 97: accuracy did not improve from 1.00000\n",
            "11/11 [==============================] - 1s 100ms/step - loss: 0.0011 - accuracy: 0.9996 - val_loss: 0.0167 - val_accuracy: 0.9968\n",
            "Epoch 98/100\n",
            "11/11 [==============================] - ETA: 0s - loss: 9.7027e-04 - accuracy: 0.9996\n",
            "Epoch 98: accuracy did not improve from 1.00000\n",
            "11/11 [==============================] - 1s 99ms/step - loss: 9.7027e-04 - accuracy: 0.9996 - val_loss: 0.0199 - val_accuracy: 0.9968\n",
            "Epoch 99/100\n",
            "11/11 [==============================] - ETA: 0s - loss: 5.0507e-04 - accuracy: 1.0000\n",
            "Epoch 99: accuracy did not improve from 1.00000\n",
            "11/11 [==============================] - 1s 99ms/step - loss: 5.0507e-04 - accuracy: 1.0000 - val_loss: 0.0216 - val_accuracy: 0.9968\n",
            "Epoch 100/100\n",
            "11/11 [==============================] - ETA: 0s - loss: 4.3780e-04 - accuracy: 1.0000\n",
            "Epoch 100: accuracy did not improve from 1.00000\n",
            "11/11 [==============================] - 1s 99ms/step - loss: 4.3780e-04 - accuracy: 1.0000 - val_loss: 0.0211 - val_accuracy: 0.9968\n"
          ]
        }
      ],
      "source": [
        "start_time = time.time()\n",
        "history = model.fit(Xtrain, ytrain, batch_size = 256, epochs= 100, callbacks=callbacks_list, verbose=1, validation_split=0.1)# ,validation_data=(Xtest, ytest)) #256\n",
        "train_time = time.time() - start_time"
      ]
    },
    {
      "cell_type": "markdown",
      "source": [
        "# Note the Testing time"
      ],
      "metadata": {
        "id": "CFEgCAAcvsmm"
      }
    },
    {
      "cell_type": "code",
      "execution_count": 36,
      "metadata": {
        "id": "5h6eIsPSpjhB",
        "colab": {
          "base_uri": "https://localhost:8080/"
        },
        "outputId": "44b95de6-3a3f-463c-efea-f58d906bc226"
      },
      "outputs": [
        {
          "output_type": "stream",
          "name": "stdout",
          "text": [
            "225/225 [==============================] - 2s 8ms/step - loss: 0.0075 - accuracy: 0.9976\n"
          ]
        }
      ],
      "source": [
        "start_time = time.time()\n",
        "score = model.evaluate(Xtest, ytest, verbose=1)\n",
        "test_time = time.time() - start_time"
      ]
    },
    {
      "cell_type": "markdown",
      "source": [
        "# Classification Report"
      ],
      "metadata": {
        "id": "tcpCBkn1vzgN"
      }
    },
    {
      "cell_type": "code",
      "execution_count": 37,
      "metadata": {
        "id": "FvyRptX-OHb9",
        "colab": {
          "base_uri": "https://localhost:8080/"
        },
        "outputId": "723f4a0c-28c6-4e80-fca7-26477ddc5633"
      },
      "outputs": [
        {
          "output_type": "stream",
          "name": "stdout",
          "text": [
            "              precision    recall  f1-score   support\n",
            "\n",
            "           0       1.00      1.00      1.00        32\n",
            "           1       1.00      0.99      1.00      1000\n",
            "           2       0.99      1.00      0.99       581\n",
            "           3       1.00      1.00      1.00       166\n",
            "           4       1.00      1.00      1.00       338\n",
            "           5       1.00      1.00      1.00       511\n",
            "           6       1.00      1.00      1.00        20\n",
            "           7       1.00      1.00      1.00       335\n",
            "           8       1.00      0.93      0.96        14\n",
            "           9       1.00      1.00      1.00       680\n",
            "          10       1.00      1.00      1.00      1719\n",
            "          11       1.00      0.99      0.99       415\n",
            "          12       1.00      1.00      1.00       143\n",
            "          13       1.00      1.00      1.00       886\n",
            "          14       1.00      1.00      1.00       270\n",
            "          15       1.00      1.00      1.00        65\n",
            "\n",
            "    accuracy                           1.00      7175\n",
            "   macro avg       1.00      0.99      1.00      7175\n",
            "weighted avg       1.00      1.00      1.00      7175\n",
            "\n"
          ]
        }
      ],
      "source": [
        "Y_pred_test = model.predict(Xtest)\n",
        "y_pred_test = np.argmax(Y_pred_test, axis=1)\n",
        "\n",
        "classification = classification_report(np.argmax(ytest, axis=1), y_pred_test)\n",
        "print(classification)"
      ]
    },
    {
      "cell_type": "markdown",
      "source": [
        "# Function to compute Average Accuracy and Each Class Accuracy"
      ],
      "metadata": {
        "id": "gg8Gg-0Uv4EI"
      }
    },
    {
      "cell_type": "code",
      "execution_count": 38,
      "metadata": {
        "id": "vLz4I0MHOI8l"
      },
      "outputs": [],
      "source": [
        "def AA_andEachClassAccuracy(confusion_matrix):\n",
        "    counter = confusion_matrix.shape[0]\n",
        "    list_diag = np.diag(confusion_matrix)\n",
        "    list_raw_sum = np.sum(confusion_matrix, axis=1)\n",
        "    each_acc = np.nan_to_num(truediv(list_diag, list_raw_sum))\n",
        "    average_acc = np.mean(each_acc)\n",
        "    return each_acc, average_acc"
      ]
    },
    {
      "cell_type": "markdown",
      "source": [
        "# Computation of Classification Accuracies, Confusion Matrix and Loss"
      ],
      "metadata": {
        "id": "am14GOMawJrW"
      }
    },
    {
      "cell_type": "code",
      "execution_count": 39,
      "metadata": {
        "id": "mUJlwtwSOQNe"
      },
      "outputs": [],
      "source": [
        "def reports (X_test,y_test,name):\n",
        "    #start = time.time()\n",
        "    Y_pred = model.predict(X_test)\n",
        "    y_pred = np.argmax(Y_pred, axis=1)\n",
        "    #end = time.time()\n",
        "    #print(end - start)\n",
        "    if name == 'IP':\n",
        "        target_names = ['Alfalfa', 'Corn-notill', 'Corn-mintill', 'Corn'\n",
        "                        ,'Grass-pasture', 'Grass-trees', 'Grass-pasture-mowed', \n",
        "                        'Hay-windrowed', 'Oats', 'Soybean-notill', 'Soybean-mintill',\n",
        "                        'Soybean-clean', 'Wheat', 'Woods', 'Buildings-Grass-Trees-Drives',\n",
        "                        'Stone-Steel-Towers']\n",
        "    elif name == 'SA':\n",
        "        target_names = ['Brocoli_green_weeds_1','Brocoli_green_weeds_2','Fallow','Fallow_rough_plow','Fallow_smooth',\n",
        "                        'Stubble','Celery','Grapes_untrained','Soil_vinyard_develop','Corn_senesced_green_weeds',\n",
        "                        'Lettuce_romaine_4wk','Lettuce_romaine_5wk','Lettuce_romaine_6wk','Lettuce_romaine_7wk',\n",
        "                        'Vinyard_untrained','Vinyard_vertical_trellis']\n",
        "    elif name == 'PU':\n",
        "        target_names = ['Asphalt','Meadows','Gravel','Trees', 'Painted metal sheets','Bare Soil','Bitumen',\n",
        "                        'Self-Blocking Bricks','Shadows']\n",
        "    elif name == 'KSC':\n",
        "        target_names = ['Scrub','Willow swamp','CP hammock','Slash pine','Oak/Broadleaf','Hardwood','Swamp','Graminoid marsh','Spartina marsh','Cattail marsh','Salt marsh','Mud flats','Water']\n",
        "    \n",
        "    classification = classification_report(np.argmax(y_test, axis=1), y_pred, target_names=target_names)\n",
        "    oa = accuracy_score(np.argmax(y_test, axis=1), y_pred)\n",
        "    confusion = confusion_matrix(np.argmax(y_test, axis=1), y_pred)\n",
        "    each_acc, aa = AA_andEachClassAccuracy(confusion)\n",
        "    kappa = cohen_kappa_score(np.argmax(y_test, axis=1), y_pred)\n",
        "    score = model.evaluate(X_test, y_test, batch_size=32)\n",
        "    Test_Loss =  score[0]*100\n",
        "    Test_accuracy = score[1]*100\n",
        "    \n",
        "    return classification, confusion, Test_Loss, Test_accuracy, oa*100, each_acc*100, aa*100, kappa*100"
      ]
    },
    {
      "cell_type": "markdown",
      "source": [
        "# Write the Classification report into a text file."
      ],
      "metadata": {
        "id": "v2O8kuFVwZkG"
      }
    },
    {
      "cell_type": "code",
      "execution_count": 40,
      "metadata": {
        "id": "TfQ14ppYORUc",
        "colab": {
          "base_uri": "https://localhost:8080/"
        },
        "outputId": "a2edac3a-4e46-425b-ac41-bb64d8000792"
      },
      "outputs": [
        {
          "output_type": "stream",
          "name": "stdout",
          "text": [
            "225/225 [==============================] - 2s 8ms/step - loss: 0.0075 - accuracy: 0.9976\n"
          ]
        }
      ],
      "source": [
        "classification, confusion, Test_loss, Test_accuracy, oa, each_acc, aa, kappa = reports(Xtest,ytest,dataset)\n",
        "classification = str(classification)\n",
        "confusion = str(confusion)\n",
        "file_name = \"classification_report.txt\"\n",
        "\n",
        "with open(file_name, 'w') as x_file:\n",
        "    x_file.write('\\n')\n",
        "    x_file.write('training_samples_after_oversampling {}'.format(training_samples_after_oversampling))\n",
        "    x_file.write('\\n')\n",
        "    x_file.write('{} Test loss (%)'.format(Test_loss))\n",
        "    x_file.write('\\n')\n",
        "    x_file.write('{} Test accuracy (%)'.format(Test_accuracy))\n",
        "    x_file.write('\\n')\n",
        "    x_file.write('{} Kappa accuracy (%)'.format(kappa))\n",
        "    x_file.write('\\n')\n",
        "    x_file.write('{} Overall accuracy (%)'.format(oa))\n",
        "    x_file.write('\\n')\n",
        "    x_file.write('{} Average accuracy (%)'.format(aa))\n",
        "    x_file.write('\\n')\n",
        "    x_file.write('{}(seconds) train_time'.format(train_time))\n",
        "    x_file.write('\\n')\n",
        "    x_file.write('{}(seconds) test_time'.format(test_time))\n",
        "    x_file.write('\\n')\n",
        "    x_file.write('{}'.format(classification))\n",
        "    x_file.write('\\n')\n",
        "    x_file.write('{}'.format(confusion))"
      ]
    },
    {
      "cell_type": "code",
      "execution_count": 41,
      "metadata": {
        "id": "KLMIYKSdb2LO",
        "colab": {
          "base_uri": "https://localhost:8080/"
        },
        "outputId": "f49f54c6-08d9-49c9-8e93-6fbb3adc5700"
      },
      "outputs": [
        {
          "output_type": "stream",
          "name": "stdout",
          "text": [
            "c1= 100.0\n",
            "c2= 99.4\n",
            "c3= 99.82788296041308\n",
            "c4= 100.0\n",
            "c5= 100.0\n",
            "c6= 99.80430528375733\n",
            "c7= 100.0\n",
            "c8= 100.0\n",
            "c9= 92.85714285714286\n",
            "c10= 99.70588235294117\n",
            "c11= 99.94182664339732\n",
            "c12= 98.79518072289156\n",
            "c13= 100.0\n",
            "c14= 100.0\n",
            "c15= 100.0\n",
            "c16= 100.0\n"
          ]
        }
      ],
      "source": [
        "k = 1\n",
        "for i in each_acc:\n",
        "  print('c%s='%k,i)\n",
        "  k = k+1"
      ]
    },
    {
      "cell_type": "markdown",
      "source": [
        "# Open the text file containing the  Classification Report and print them line by line."
      ],
      "metadata": {
        "id": "D-nxXsFJxNvy"
      }
    },
    {
      "cell_type": "code",
      "execution_count": 42,
      "metadata": {
        "id": "D75SwMTFTL8l",
        "colab": {
          "base_uri": "https://localhost:8080/"
        },
        "outputId": "a0f4b97e-94ef-4e07-c00f-1fceb34942b9"
      },
      "outputs": [
        {
          "output_type": "stream",
          "name": "stdout",
          "text": [
            "training_samples_after_oversampling 3074\n",
            "\n",
            "0.7450766861438751 Test loss (%)\n",
            "\n",
            "99.76306557655334 Test accuracy (%)\n",
            "\n",
            "99.72982693773503 Kappa accuracy (%)\n",
            "\n",
            "99.76306620209058 Overall accuracy (%)\n",
            "\n",
            "99.39576380128396 Average accuracy (%)\n",
            "\n",
            "123.01901316642761(seconds) train_time\n",
            "\n",
            "2.126746892929077(seconds) test_time\n",
            "\n",
            "                              precision    recall  f1-score   support\n",
            "\n",
            "\n",
            "\n",
            "                     Alfalfa       1.00      1.00      1.00        32\n",
            "\n",
            "                 Corn-notill       1.00      0.99      1.00      1000\n",
            "\n",
            "                Corn-mintill       0.99      1.00      0.99       581\n",
            "\n",
            "                        Corn       1.00      1.00      1.00       166\n",
            "\n",
            "               Grass-pasture       1.00      1.00      1.00       338\n",
            "\n",
            "                 Grass-trees       1.00      1.00      1.00       511\n",
            "\n",
            "         Grass-pasture-mowed       1.00      1.00      1.00        20\n",
            "\n",
            "               Hay-windrowed       1.00      1.00      1.00       335\n",
            "\n",
            "                        Oats       1.00      0.93      0.96        14\n",
            "\n",
            "              Soybean-notill       1.00      1.00      1.00       680\n",
            "\n",
            "             Soybean-mintill       1.00      1.00      1.00      1719\n",
            "\n",
            "               Soybean-clean       1.00      0.99      0.99       415\n",
            "\n",
            "                       Wheat       1.00      1.00      1.00       143\n",
            "\n",
            "                       Woods       1.00      1.00      1.00       886\n",
            "\n",
            "Buildings-Grass-Trees-Drives       1.00      1.00      1.00       270\n",
            "\n",
            "          Stone-Steel-Towers       1.00      1.00      1.00        65\n",
            "\n",
            "\n",
            "\n",
            "                    accuracy                           1.00      7175\n",
            "\n",
            "                   macro avg       1.00      0.99      1.00      7175\n",
            "\n",
            "                weighted avg       1.00      1.00      1.00      7175\n",
            "\n",
            "\n",
            "\n",
            "[[  32    0    0    0    0    0    0    0    0    0    0    0    0    0\n",
            "\n",
            "     0    0]\n",
            "\n",
            " [   0  994    2    0    0    0    0    0    0    1    3    0    0    0\n",
            "\n",
            "     0    0]\n",
            "\n",
            " [   0    0  580    0    0    0    0    0    0    1    0    0    0    0\n",
            "\n",
            "     0    0]\n",
            "\n",
            " [   0    0    0  166    0    0    0    0    0    0    0    0    0    0\n",
            "\n",
            "     0    0]\n",
            "\n",
            " [   0    0    0    0  338    0    0    0    0    0    0    0    0    0\n",
            "\n",
            "     0    0]\n",
            "\n",
            " [   0    0    0    0    0  510    0    0    0    0    0    0    0    1\n",
            "\n",
            "     0    0]\n",
            "\n",
            " [   0    0    0    0    0    0   20    0    0    0    0    0    0    0\n",
            "\n",
            "     0    0]\n",
            "\n",
            " [   0    0    0    0    0    0    0  335    0    0    0    0    0    0\n",
            "\n",
            "     0    0]\n",
            "\n",
            " [   0    0    1    0    0    0    0    0   13    0    0    0    0    0\n",
            "\n",
            "     0    0]\n",
            "\n",
            " [   0    0    0    0    0    0    0    0    0  678    2    0    0    0\n",
            "\n",
            "     0    0]\n",
            "\n",
            " [   0    0    0    0    0    1    0    0    0    0 1718    0    0    0\n",
            "\n",
            "     0    0]\n",
            "\n",
            " [   0    0    2    0    0    0    0    0    0    0    3  410    0    0\n",
            "\n",
            "     0    0]\n",
            "\n",
            " [   0    0    0    0    0    0    0    0    0    0    0    0  143    0\n",
            "\n",
            "     0    0]\n",
            "\n",
            " [   0    0    0    0    0    0    0    0    0    0    0    0    0  886\n",
            "\n",
            "     0    0]\n",
            "\n",
            " [   0    0    0    0    0    0    0    0    0    0    0    0    0    0\n",
            "\n",
            "   270    0]\n",
            "\n",
            " [   0    0    0    0    0    0    0    0    0    0    0    0    0    0\n",
            "\n",
            "     0   65]]\n",
            "\n"
          ]
        }
      ],
      "source": [
        "with open('classification_report.txt') as f:\n",
        "      line = f.readline()\n",
        "      while line:\n",
        "          line = f.readline()\n",
        "          print(line)"
      ]
    },
    {
      "cell_type": "code",
      "execution_count": 43,
      "metadata": {
        "id": "dJocivx9UEnJ"
      },
      "outputs": [],
      "source": [
        "f.close()"
      ]
    },
    {
      "cell_type": "markdown",
      "source": [
        "# Generate the predicted Image"
      ],
      "metadata": {
        "id": "CS110we0xlJT"
      }
    },
    {
      "cell_type": "code",
      "execution_count": 44,
      "metadata": {
        "id": "X9GBG2jf34RR"
      },
      "outputs": [],
      "source": [
        "height = labels.shape[0]\n",
        "width = labels.shape[1]\n",
        "PATCH_SIZE = windowSize\n",
        "numComponents = K"
      ]
    },
    {
      "cell_type": "code",
      "execution_count": 45,
      "metadata": {
        "id": "2WlQ1hwY4bVY"
      },
      "outputs": [],
      "source": [
        "X,pca = applyPCA(X, numComponents=numComponents)"
      ]
    },
    {
      "cell_type": "code",
      "execution_count": 57,
      "metadata": {
        "id": "I6dKoYcm5W7Q"
      },
      "outputs": [],
      "source": [
        "def Patch(data,height_index,width_index):\n",
        "    height_slice = slice(height_index, height_index+PATCH_SIZE)\n",
        "    width_slice = slice(width_index, width_index+PATCH_SIZE)\n",
        "    patch = data[height_slice, width_slice, :]\n",
        "    \n",
        "    return patch"
      ]
    },
    {
      "cell_type": "code",
      "execution_count": 47,
      "metadata": {
        "id": "s14lwwCA4g0C"
      },
      "outputs": [],
      "source": [
        "X = padWithZeros(X, PATCH_SIZE//2)"
      ]
    },
    {
      "cell_type": "code",
      "execution_count": 58,
      "metadata": {
        "id": "1iplpQiM4l9x"
      },
      "outputs": [],
      "source": [
        "# calculate the predicted image\n",
        "outputs = np.zeros((height,width))\n",
        "for i in range(height):\n",
        "    for j in range(width):\n",
        "        target = int(labels[i,j])\n",
        "        if target == 0 :\n",
        "            continue\n",
        "        else :\n",
        "            image_patch=Patch(X,i,j)\n",
        "            X_test_image = image_patch.reshape(1,image_patch.shape[0],image_patch.shape[1], image_patch.shape[2], 1).astype('float32')                                   \n",
        "            prediction = (model.predict(X_test_image))\n",
        "            prediction = np.argmax(prediction, axis=1)\n",
        "            outputs[i][j] = prediction + 1"
      ]
    },
    {
      "cell_type": "code",
      "execution_count": 59,
      "metadata": {
        "id": "crBC7szRt6b_"
      },
      "outputs": [],
      "source": [
        "if name == 'IP':\n",
        "    target_names = ['Background', 'Alfalfa', 'Corn-notill', 'Corn-mintill', 'Corn'\n",
        "                    ,'Grass-pasture', 'Grass-trees', 'Grass-pasture-mowed', \n",
        "                    'Hay-windrowed', 'Oats', 'Soybean-notill', 'Soybean-mintill',\n",
        "                    'Soybean-clean', 'Wheat', 'Woods', 'Buildings-Grass-Trees-Drives',\n",
        "                    'Stone-Steel-Towers']\n",
        "    targetClass_colors = np.array([[250, 250, 250],\n",
        "                              [255, 254, 137], [3,  28,  241], [255, 89,    1], [219, 255, 51],\n",
        "                               [255,   2, 251], [89,  1,  255], [3,   171, 255], [12,  255,   7],\n",
        "                               [172, 175,  84], [160, 78, 158], [101, 173, 255], [60,   91, 112],\n",
        "                              [104, 192,  63], [139, 69,  46], [0, 102, 0], [77, 0, 77]])\n",
        "    targetClass_colors = preprocessing.minmax_scale(targetClass_colors, feature_range=(0, 1))\n",
        "\n",
        "elif name == 'SA':\n",
        "    target_names = ['Background', 'Brocoli_green_weeds_1','Brocoli_green_weeds_2','Fallow','Fallow_rough_plow','Fallow_smooth',\n",
        "                    'Stubble','Celery','Grapes_untrained','Soil_vinyard_develop','Corn_senesced_green_weeds',\n",
        "                    'Lettuce_romaine_4wk','Lettuce_romaine_5wk','Lettuce_romaine_6wk','Lettuce_romaine_7wk',\n",
        "                    'Vinyard_untrained','Vinyard_vertical_trellis']\n",
        "    targetClass_colors = np.array([[250, 250, 250],\n",
        "                              [255, 254, 137], [3,  28,  241], [255, 89,    1], [219, 255, 51],\n",
        "                              [255,   2, 251], [89,  1,  255], [3,   171, 255], [12,  255,   7],\n",
        "                              [172, 175,  84], [160, 78, 158], [101, 173, 255], [60,   91, 112],\n",
        "                              [104, 192,  63], [139, 69,  46], [0, 102, 0], [77, 0, 77]])\n",
        "    targetClass_colors = preprocessing.minmax_scale(targetClass_colors, feature_range=(0, 1))\n",
        "    \n",
        "elif name == 'PU':\n",
        "    target_names = ['Background', 'Asphalt','Meadows','Gravel','Trees', 'Painted metal sheets','Bare Soil','Bitumen',\n",
        "                    'Self-Blocking Bricks','Shadows']\n",
        "    targetClass_colors = np.array([[250, 250, 250],\n",
        "                            [255, 254, 137], [3,  28,  241], [255, 89,    1], [5,   255, 133],\n",
        "                            [255,   2, 251], [139, 69,  46], [101, 173, 255], [0, 102, 0],\n",
        "                            [77, 0, 77]])\n",
        "    targetClass_colors = preprocessing.minmax_scale(targetClass_colors, feature_range=(0, 1))"
      ]
    },
    {
      "cell_type": "markdown",
      "source": [
        "# Groundtruth Image"
      ],
      "metadata": {
        "id": "B_W8ojIkN6mN"
      }
    },
    {
      "cell_type": "code",
      "execution_count": null,
      "metadata": {
        "id": "BRo45gTluEBi"
      },
      "outputs": [],
      "source": [
        "plt.figure(figsize=(10, 10))\n",
        "plt.imshow(labels,cmap= mlp.colors.ListedColormap(targetClass_colors))\n",
        "plt.axis(\"off\")\n",
        "cb = plt.colorbar()\n",
        "loc = np.arange(0,max(np.unique(labels)),max(np.unique(labels))/float(len(targetClass_colors)))\n",
        "cb.set_ticks(loc)\n",
        "cb.set_ticklabels(targetClass_colors)\n",
        "cb.set_ticklabels(target_names)\n",
        "plt.savefig('IP_GroundTruth_Map.jpg', dpi= 600, bbox_inches='tight')"
      ]
    },
    {
      "cell_type": "markdown",
      "source": [
        "# Classification map of Predicted image"
      ],
      "metadata": {
        "id": "IwUv9xd0Nxy-"
      }
    },
    {
      "cell_type": "code",
      "source": [
        "plt.figure(figsize=(10, 10))\n",
        "plt.imshow(outputs.astype(int),cmap= mlp.colors.ListedColormap(targetClass_colors))\n",
        "plt.axis(\"off\")\n",
        "#cb = plt.colorbar()\n",
        "#loc = np.arange(0,max(np.unique(labels)),max(np.unique(labels))/float(len(targetClass_colors)))\n",
        "#cb.set_ticks(loc)\n",
        "#cb.set_ticklabels(colors)\n",
        "#cb.set_ticklabels(IP_class_names)\n",
        "plt.savefig('Predicted_Classification_Map.jpg', dpi= 600, bbox_inches='tight')"
      ],
      "metadata": {
        "id": "Hy1cVPqCNweR"
      },
      "execution_count": null,
      "outputs": []
    }
  ],
  "metadata": {
    "accelerator": "GPU",
    "colab": {
      "collapsed_sections": [],
      "machine_shape": "hm",
      "name": "HybridSN_MS_SpinalNet_ModifiedBySandeep_Elsevier.ipynb",
      "provenance": []
    },
    "kernelspec": {
      "display_name": "Python 3",
      "language": "python",
      "name": "python3"
    },
    "language_info": {
      "codemirror_mode": {
        "name": "ipython",
        "version": 3
      },
      "file_extension": ".py",
      "mimetype": "text/x-python",
      "name": "python",
      "nbconvert_exporter": "python",
      "pygments_lexer": "ipython3",
      "version": "3.6.8"
    }
  },
  "nbformat": 4,
  "nbformat_minor": 0
}