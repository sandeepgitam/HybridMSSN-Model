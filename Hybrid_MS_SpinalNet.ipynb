{
  "cells": [
    {
      "cell_type": "markdown",
      "source": [
        "# Import the required Libraries"
      ],
      "metadata": {
        "id": "jH9OvEM7srOD"
      }
    },
    {
      "cell_type": "code",
      "execution_count": null,
      "metadata": {
        "id": "jSMyfxKw6pUv"
      },
      "outputs": [],
      "source": [
        "#%tensorflow_version 1.x\n",
        "import tensorflow\n",
        "#import talos\n",
        "import keras\n",
        "import time\n",
        "from keras.layers import Conv2D, Conv3D, Flatten, Dense, Reshape, GlobalAveragePooling3D, MaxPool3D\n",
        "from keras.layers import Dropout, Input, Lambda, Concatenate\n",
        "from keras.layers import Add, BatchNormalization\n",
        "from tensorflow.keras.models import Model\n",
        "from tensorflow.keras.optimizers import Adam, SGD\n",
        "from keras.callbacks import ModelCheckpoint\n",
        "from keras.utils import np_utils\n",
        "from keras.utils.vis_utils import plot_model\n",
        "from sklearn.decomposition import PCA\n",
        "from sklearn.model_selection import train_test_split\n",
        "from sklearn.metrics import confusion_matrix, accuracy_score, classification_report, cohen_kappa_score\n",
        "from sklearn import preprocessing \n",
        "from sklearn.svm import LinearSVC\n",
        "\n",
        "from operator import truediv\n",
        "\n",
        "from plotly.offline import init_notebook_mode\n",
        "\n",
        "import numpy as np\n",
        "\n",
        "import matplotlib as mlp\n",
        "import matplotlib.pyplot as plt\n",
        "from matplotlib.colors import ListedColormap, LinearSegmentedColormap\n",
        "\n",
        "import scipy.io as sio\n",
        "import os\n",
        "from scipy.io import savemat\n",
        "from skimage.util import random_noise\n",
        "init_notebook_mode(connected=True)\n",
        "%matplotlib inline"
      ]
    },
    {
      "cell_type": "code",
      "execution_count": null,
      "metadata": {
        "colab": {
          "base_uri": "https://localhost:8080/"
        },
        "id": "8njSUg5CEZb9",
        "outputId": "084db54a-3fba-44f5-940d-f8faf4f50355"
      },
      "outputs": [
        {
          "output_type": "stream",
          "name": "stdout",
          "text": [
            "2.8.0\n"
          ]
        }
      ],
      "source": [
        "print(tensorflow.__version__)"
      ]
    },
    {
      "cell_type": "code",
      "execution_count": null,
      "metadata": {
        "colab": {
          "base_uri": "https://localhost:8080/",
          "height": 35
        },
        "id": "mdzSZGJ6C870",
        "outputId": "acf9960a-6f63-46cc-83ff-a0a088fcb0de"
      },
      "outputs": [
        {
          "output_type": "execute_result",
          "data": {
            "application/vnd.google.colaboratory.intrinsic+json": {
              "type": "string"
            },
            "text/plain": [
              "'2.8.0'"
            ]
          },
          "metadata": {},
          "execution_count": 5
        }
      ],
      "source": [
        "keras.__version__"
      ]
    },
    {
      "cell_type": "markdown",
      "metadata": {
        "id": "WCkFMGOe6pU3"
      },
      "source": [
        "# Data Loading"
      ]
    },
    {
      "cell_type": "code",
      "execution_count": null,
      "metadata": {
        "id": "2XFoW8a06pU4"
      },
      "outputs": [],
      "source": [
        "## GLOBAL VARIABLES\n",
        "dataset = 'IP'\n",
        "name = 'IP'\n",
        "\n",
        "#dataset = 'PU'\n",
        "#name = 'PU'\n",
        "\n",
        "#dataset = 'SA'\n",
        "#name = 'SA'\n",
        "\n",
        "#dataset = 'KSC'\n",
        "#name = 'KSC'\n",
        "\n",
        "test_ratio = 0.20 #0.7\n",
        "windowSize = 13 #9 #11"
      ]
    },
    {
      "cell_type": "code",
      "execution_count": null,
      "metadata": {
        "id": "rzVb-NNb6pU4"
      },
      "outputs": [],
      "source": [
        "def loadData(name):\n",
        "   \n",
        "    if name == 'IP':\n",
        "        \n",
        "        data = sio.loadmat('Indian_pines_corrected.mat')['indian_pines_corrected']\n",
        "        labels = sio.loadmat('Indian_pines_gt.mat')['indian_pines_gt']\n",
        "    elif name == 'SA':\n",
        "        \n",
        "        data = sio.loadmat('Salinas_corrected.mat')['salinas_corrected']\n",
        "        labels = sio.loadmat('Salinas_gt.mat')['salinas_gt']\n",
        "    elif name == 'PU':\n",
        "        \n",
        "        data = sio.loadmat('PaviaU.mat')['paviaU']\n",
        "        labels = sio.loadmat('PaviaU_gt.mat')['paviaU_gt']\n",
        "    elif name == 'KSC':\n",
        "        data = sio.loadmat('KSC.mat')['KSC']\n",
        "        labels = sio.loadmat('KSC_gt.mat')['KSC_gt']\n",
        "    \n",
        "    return data, labels"
      ]
    },
    {
      "cell_type": "markdown",
      "source": [
        "# Function for splitting the patches into Training and Testing samples"
      ],
      "metadata": {
        "id": "Bx8qFqN_s5aJ"
      }
    },
    {
      "cell_type": "code",
      "execution_count": null,
      "metadata": {
        "id": "9H6KWIDT6pU5"
      },
      "outputs": [],
      "source": [
        "def splitTrainTestSet(X, y, testRatio, randomState=345):\n",
        "    X_train, X_test, y_train, y_test = train_test_split(X, y, test_size=testRatio, random_state=randomState,\n",
        "                                                        stratify=y)\n",
        "    return X_train, X_test, y_train, y_test"
      ]
    },
    {
      "cell_type": "markdown",
      "source": [
        "#Function for applying PCA"
      ],
      "metadata": {
        "id": "NISl6luqtDxi"
      }
    },
    {
      "cell_type": "code",
      "execution_count": null,
      "metadata": {
        "id": "kTnRqwcG6pU5"
      },
      "outputs": [],
      "source": [
        "def applyPCA(X, numComponents=75):\n",
        "    newX = np.reshape(X, (-1, X.shape[2]))\n",
        "    pca = PCA(n_components=numComponents, whiten=True)\n",
        "    newX = pca.fit_transform(newX)\n",
        "    newX = np.reshape(newX, (X.shape[0],X.shape[1], numComponents))\n",
        "    return newX, pca"
      ]
    },
    {
      "cell_type": "markdown",
      "source": [
        "# Function for Zero Padding"
      ],
      "metadata": {
        "id": "kyXXO5NytLI5"
      }
    },
    {
      "cell_type": "code",
      "execution_count": null,
      "metadata": {
        "id": "LqU4_Fc86pU6"
      },
      "outputs": [],
      "source": [
        "def padWithZeros(X, margin=2):\n",
        "    newX = np.zeros((X.shape[0] + 2 * margin, X.shape[1] + 2* margin, X.shape[2]))\n",
        "    x_offset = margin\n",
        "    y_offset = margin\n",
        "    newX[x_offset:X.shape[0] + x_offset, y_offset:X.shape[1] + y_offset, :] = X\n",
        "    return newX"
      ]
    },
    {
      "cell_type": "markdown",
      "source": [
        "# Function to Extract Image cubes from the Dataset"
      ],
      "metadata": {
        "id": "kp4gAtprtQ6D"
      }
    },
    {
      "cell_type": "code",
      "execution_count": null,
      "metadata": {
        "id": "LV7Dznu46pU6"
      },
      "outputs": [],
      "source": [
        "def createImageCubes(X, y, windowSize=5, removeZeroLabels = True):\n",
        "    margin = int((windowSize - 1) / 2)\n",
        "    zeroPaddedX = padWithZeros(X, margin=margin)\n",
        "    # split patches\n",
        "    patchesData = np.zeros((X.shape[0] * X.shape[1], windowSize, windowSize, X.shape[2]))\n",
        "    patchesLabels = np.zeros((X.shape[0] * X.shape[1]))\n",
        "    patchIndex = 0\n",
        "    for r in range(margin, zeroPaddedX.shape[0] - margin):\n",
        "        for c in range(margin, zeroPaddedX.shape[1] - margin):\n",
        "            patch = zeroPaddedX[r - margin:r + margin + 1, c - margin:c + margin + 1]   \n",
        "            patchesData[patchIndex, :, :, :] = patch\n",
        "            patchesLabels[patchIndex] = y[r-margin, c-margin]\n",
        "            patchIndex = patchIndex + 1\n",
        "    if removeZeroLabels:\n",
        "        patchesData = patchesData[patchesLabels>0,:,:,:]\n",
        "        patchesLabels = patchesLabels[patchesLabels>0]\n",
        "        patchesLabels -= 1\n",
        "    return patchesData, patchesLabels"
      ]
    },
    {
      "cell_type": "markdown",
      "source": [
        "# Oversampling of samples belonging to weaker classes"
      ],
      "metadata": {
        "id": "rY6fcROPteiL"
      }
    },
    {
      "cell_type": "code",
      "execution_count": null,
      "metadata": {
        "id": "SNfG9bGtjzr3"
      },
      "outputs": [],
      "source": [
        "def oversampleWeakClasses(X, y):\n",
        "    uniqueLabels, labelCounts = np.unique(y, return_counts=True)\n",
        "    maxCount = np.max(labelCounts)\n",
        "    labelInverseRatios = maxCount / labelCounts  \n",
        "    # repeat for every label and concat\n",
        "    newX = X[y == uniqueLabels[0], :, :, :].repeat(round(labelInverseRatios[0]), axis=0)\n",
        "    newY = y[y == uniqueLabels[0]].repeat(round(labelInverseRatios[0]), axis=0)\n",
        "    for label, labelInverseRatio in zip(uniqueLabels[1:], labelInverseRatios[1:]):\n",
        "        cX = X[y== label,:,:,:].repeat(round(labelInverseRatio), axis=0)\n",
        "        cY = y[y == label].repeat(round(labelInverseRatio), axis=0)\n",
        "        newX = np.concatenate((newX, cX))\n",
        "        newY = np.concatenate((newY, cY))\n",
        "    np.random.seed(seed=42)\n",
        "    rand_perm = np.random.permutation(newY.shape[0])\n",
        "    newX = newX[rand_perm, :, :, :]\n",
        "    newY = newY[rand_perm]\n",
        "    return newX, newY"
      ]
    },
    {
      "cell_type": "markdown",
      "source": [
        "# Step 1 : Load the Dataset and the corresponding Groundtruth"
      ],
      "metadata": {
        "id": "yVLdhG7ntqsc"
      }
    },
    {
      "cell_type": "code",
      "execution_count": null,
      "metadata": {
        "id": "VEuw7f5w6pU7"
      },
      "outputs": [],
      "source": [
        "X, labels = loadData(dataset)\n",
        "\n",
        "X.shape, labels.shape"
      ]
    },
    {
      "cell_type": "code",
      "execution_count": null,
      "metadata": {
        "id": "LZfGQJgcdNTy"
      },
      "outputs": [],
      "source": [
        "X.shape"
      ]
    },
    {
      "cell_type": "code",
      "source": [
        "plt.imshow(X[:,:,0])"
      ],
      "metadata": {
        "id": "qQ0Yl_XR91HW"
      },
      "execution_count": null,
      "outputs": []
    },
    {
      "cell_type": "code",
      "execution_count": null,
      "metadata": {
        "id": "aTeqv9Sg6pU7"
      },
      "outputs": [],
      "source": [
        "K = X.shape[2]"
      ]
    },
    {
      "cell_type": "markdown",
      "source": [
        "# Standardize the Dataset using MinMax Scaler"
      ],
      "metadata": {
        "id": "o0nXKwhTt3kw"
      }
    },
    {
      "cell_type": "code",
      "execution_count": null,
      "metadata": {
        "id": "YrPULpNGfiAD"
      },
      "outputs": [],
      "source": [
        "from sklearn.preprocessing import MinMaxScaler\n",
        "# define min max scaler\n",
        "scaler = MinMaxScaler()\n",
        "# transform data\n",
        "s = X.shape\n",
        "X_reshaped = np.reshape(X, (s[0]*s[1],s[2]))\n",
        "scaled = scaler.fit_transform(X_reshaped)\n",
        "X = np.reshape(scaled,(s[0],s[1],s[2]))"
      ]
    },
    {
      "cell_type": "code",
      "execution_count": null,
      "metadata": {
        "colab": {
          "base_uri": "https://localhost:8080/"
        },
        "id": "sQ7a5o0shjQ5",
        "outputId": "348b4e06-b780-4c9e-f3c6-30ef77a4fb49"
      },
      "outputs": [
        {
          "output_type": "execute_result",
          "data": {
            "text/plain": [
              "(512, 217, 204)"
            ]
          },
          "metadata": {},
          "execution_count": 20
        }
      ],
      "source": [
        "X.shape"
      ]
    },
    {
      "cell_type": "markdown",
      "source": [
        "# Apply the PCA on the Dataset."
      ],
      "metadata": {
        "id": "xs80qui_uDsd"
      }
    },
    {
      "cell_type": "code",
      "execution_count": null,
      "metadata": {
        "colab": {
          "base_uri": "https://localhost:8080/"
        },
        "id": "tLyEQK4B6pU8",
        "outputId": "47652bbf-086c-48da-c39c-409fdb9d33b9"
      },
      "outputs": [
        {
          "output_type": "execute_result",
          "data": {
            "text/plain": [
              "(512, 217, 30)"
            ]
          },
          "metadata": {},
          "execution_count": 21
        }
      ],
      "source": [
        "K = 30 if dataset == 'IP' or 'KSC' else 15\n",
        "X,pca = applyPCA(X,numComponents=K)\n",
        "\n",
        "X.shape"
      ]
    },
    {
      "cell_type": "markdown",
      "source": [
        "# Extract the Image cubes from the Dataset"
      ],
      "metadata": {
        "id": "Ue_QRF25uO1T"
      }
    },
    {
      "cell_type": "code",
      "execution_count": null,
      "metadata": {
        "colab": {
          "base_uri": "https://localhost:8080/"
        },
        "id": "QF222GYT6pU8",
        "outputId": "de618846-b51c-40c9-aa4d-b9fe37d82fe2"
      },
      "outputs": [
        {
          "output_type": "execute_result",
          "data": {
            "text/plain": [
              "((54129, 13, 13, 30), (54129,))"
            ]
          },
          "metadata": {},
          "execution_count": 22
        }
      ],
      "source": [
        "Xdata, ydata = createImageCubes(X, labels, windowSize=windowSize)\n",
        "\n",
        "Xdata.shape, ydata.shape"
      ]
    },
    {
      "cell_type": "markdown",
      "source": [
        "# Split the Image cubes into training and testing samples"
      ],
      "metadata": {
        "id": "krjoEXSauWD1"
      }
    },
    {
      "cell_type": "code",
      "execution_count": null,
      "metadata": {
        "colab": {
          "base_uri": "https://localhost:8080/"
        },
        "id": "LTI1vDvz6pU9",
        "outputId": "b8257b82-3afa-4cb5-d367-24113798cfda"
      },
      "outputs": [
        {
          "output_type": "execute_result",
          "data": {
            "text/plain": [
              "((43303, 13, 13, 30), (10826, 13, 13, 30), (43303,), (10826,))"
            ]
          },
          "metadata": {},
          "execution_count": 23
        }
      ],
      "source": [
        "Xtrain, Xtest, ytrain, ytest = splitTrainTestSet(Xdata, ydata, test_ratio)\n",
        "\n",
        "Xtrain.shape, Xtest.shape, ytrain.shape, ytest.shape"
      ]
    },
    {
      "cell_type": "markdown",
      "source": [
        "# Oversample the weak classes"
      ],
      "metadata": {
        "id": "RzI9J1O8ufOz"
      }
    },
    {
      "cell_type": "code",
      "execution_count": null,
      "metadata": {
        "id": "cvbNfcSokHJq"
      },
      "outputs": [],
      "source": [
        "#Xtrain, ytrain = oversampleWeakClasses(Xtrain, ytrain)"
      ]
    },
    {
      "cell_type": "code",
      "execution_count": null,
      "metadata": {
        "colab": {
          "base_uri": "https://localhost:8080/"
        },
        "id": "6M-M-ezzkJHt",
        "outputId": "e149d66e-f7b4-4e62-bb8a-a9f18acc5ad0"
      },
      "outputs": [
        {
          "output_type": "execute_result",
          "data": {
            "text/plain": [
              "(43303, 13, 13, 30)"
            ]
          },
          "metadata": {},
          "execution_count": 25
        }
      ],
      "source": [
        "Xtrain.shape"
      ]
    },
    {
      "cell_type": "markdown",
      "metadata": {
        "id": "L7jvhPVM6pU9"
      },
      "source": [
        "# Model and Training"
      ]
    },
    {
      "cell_type": "code",
      "execution_count": null,
      "metadata": {
        "colab": {
          "base_uri": "https://localhost:8080/"
        },
        "id": "-2XPHOch6pU-",
        "outputId": "7607fa61-9889-4645-af1d-54d64a6ee6bd"
      },
      "outputs": [
        {
          "output_type": "execute_result",
          "data": {
            "text/plain": [
              "(43303, 13, 13, 30, 1)"
            ]
          },
          "metadata": {},
          "execution_count": 27
        }
      ],
      "source": [
        "Xtrain = Xtrain.reshape(-1, windowSize, windowSize, K, 1)\n",
        "training_samples_after_oversampling = Xtrain.shape[0]\n",
        "Xtrain.shape"
      ]
    },
    {
      "cell_type": "code",
      "execution_count": null,
      "metadata": {
        "colab": {
          "base_uri": "https://localhost:8080/"
        },
        "id": "y7hWzUJBUGFg",
        "outputId": "0b23ebde-7a55-494c-c05d-b24edb8a78ec"
      },
      "outputs": [
        {
          "output_type": "execute_result",
          "data": {
            "text/plain": [
              "(10826, 13, 13, 30, 1)"
            ]
          },
          "metadata": {},
          "execution_count": 28
        }
      ],
      "source": [
        "Xtest = Xtest.reshape(-1, windowSize, windowSize, K, 1)\n",
        "Xtest.shape"
      ]
    },
    {
      "cell_type": "code",
      "execution_count": null,
      "metadata": {
        "colab": {
          "base_uri": "https://localhost:8080/"
        },
        "id": "NscGnNfN6pU-",
        "outputId": "47c1f103-ffb7-42f0-c243-3c3e6268fc2b"
      },
      "outputs": [
        {
          "output_type": "execute_result",
          "data": {
            "text/plain": [
              "(43303, 16)"
            ]
          },
          "metadata": {},
          "execution_count": 29
        }
      ],
      "source": [
        "ytrain = np_utils.to_categorical(ytrain)\n",
        "ytrain.shape"
      ]
    },
    {
      "cell_type": "code",
      "execution_count": null,
      "metadata": {
        "colab": {
          "base_uri": "https://localhost:8080/"
        },
        "id": "vfDagHgmT-LZ",
        "outputId": "53817d00-cb77-4bb2-f995-15991bbaa4d2"
      },
      "outputs": [
        {
          "output_type": "execute_result",
          "data": {
            "text/plain": [
              "(43303, 16)"
            ]
          },
          "metadata": {},
          "execution_count": 30
        }
      ],
      "source": [
        "ytest = np_utils.to_categorical(ytest)\n",
        "ytrain.shape"
      ]
    },
    {
      "cell_type": "code",
      "execution_count": null,
      "metadata": {
        "id": "z1sxhXOG6pU_"
      },
      "outputs": [],
      "source": [
        "S = windowSize\n",
        "L = K\n",
        "output_units = 16\n",
        "if (dataset == 'PU' or dataset == 'PC'):\n",
        "  output_units = 9\n",
        "elif(dataset =='KSC'):\n",
        "  output_units = 13 \n",
        "else:\n",
        "  output_units = 16"
      ]
    },
    {
      "cell_type": "code",
      "execution_count": null,
      "metadata": {
        "id": "lr-Q41lgmR1v"
      },
      "outputs": [],
      "source": [
        "layer_width = 256\n",
        "Half_width = int(layer_width/2)"
      ]
    },
    {
      "cell_type": "markdown",
      "source": [
        "#Function for SFCN (Spinal Fully Connected Network)"
      ],
      "metadata": {
        "id": "Cyz9oEFhul5y"
      }
    },
    {
      "cell_type": "code",
      "execution_count": null,
      "metadata": {
        "id": "zQlb3uTAD8mL"
      },
      "outputs": [],
      "source": [
        "def spnet(CNNDense,Half_width, layer_width,name):\n",
        "  out = Lambda(lambda x:x[:, 0:Half_width])(CNNDense)#(flatten_layer)\n",
        "  dense_layer1 = Dense(units = layer_width, activation='relu',input_shape=(Half_width,))(out) #(flatten_layer[:, 0:Half_width])\n",
        "  dense_layer1 = Dropout(0.25)(dense_layer1) #0.25 \n",
        "\n",
        "  out = Lambda(lambda x:x[:, Half_width:2*Half_width])(CNNDense)#(flatten_layer)\n",
        "  out1 = (Concatenate(axis = 1))([out, dense_layer1])\n",
        "  dense_layer2 = Dense(units = layer_width, activation='relu',input_shape=(Half_width + layer_width,))(out1)#(Concatenate(axis = 1))(out, dense_layer1)#([flatten_layer[:, Half_width:2*Half_width], dense_layer1])\n",
        "  dense_layer2 = Dropout(0.3)(dense_layer2) #0.3 \n",
        "\n",
        "\n",
        "  out = Lambda(lambda x:x[:,0:Half_width])(dense_layer2)\n",
        "  out1 = (Concatenate(axis = 1))([out, dense_layer2])\n",
        "  dense_layer3 = Dense(units=layer_width, activation='relu',input_shape=(Half_width,))(out1)#(Concatenate(axis = 1))([flatten_layer[:, 0:Half_width], dense_layer2])\n",
        "  dense_layer3 = Dropout(0.4)(dense_layer3) #0.4 \n",
        "\n",
        "\n",
        "  out = Lambda(lambda x:x[:, Half_width:2*Half_width])(dense_layer3)\n",
        "  out1 = (Concatenate(axis = 1))([out, dense_layer3])\n",
        "  dense_layer4 = Dense(units=layer_width, activation='relu',input_shape=(Half_width + layer_width,))(out1)#(Concatenate(axis = 1))([flatten_layer[:,Half_width:2*Half_width], dense_layer3])\n",
        "  dense_layer4 = Dropout(0.5)(dense_layer4) #0.45 5\n",
        "\n",
        "  x = Concatenate(axis = 1)([dense_layer1, dense_layer2])\n",
        "  x = Concatenate(axis = 1)([x, dense_layer3])\n",
        "  x = Concatenate(axis = 1, name = str(name))([x, dense_layer4])\n",
        "  return x"
      ]
    },
    {
      "cell_type": "markdown",
      "source": [
        "# Proposed structure of HybridMSSN Deep Learning model"
      ],
      "metadata": {
        "id": "E2R4wEaluv-t"
      }
    },
    {
      "cell_type": "code",
      "execution_count": null,
      "metadata": {
        "colab": {
          "base_uri": "https://localhost:8080/",
          "height": 71
        },
        "id": "eWk0rwsV6pU_",
        "outputId": "9b5a94c9-0eac-4dc0-bf69-cd0e4f39a1d3"
      },
      "outputs": [
        {
          "output_type": "execute_result",
          "data": {
            "application/vnd.google.colaboratory.intrinsic+json": {
              "type": "string"
            },
            "text/plain": [
              "\"\\n# define the model with input layer and output layer\\nmodel = Model(inputs=input_layer, outputs=output_layer)\\nadam = Adam(lr=0.001, decay=1e-06)\\nmodel.compile(loss='categorical_crossentropy', optimizer=adam, metrics=['accuracy'])\\n\""
            ]
          },
          "metadata": {},
          "execution_count": 34
        }
      ],
      "source": [
        "## input layer\n",
        "input_layer = Input((S, S, L, 1))\n",
        "initializer = keras.initializers.glorot_uniform()\n",
        "conv_layer1 = Conv3D(filters=64, kernel_size= (3, 3, 3), activation='relu',padding = 'same', kernel_initializer=initializer)(input_layer)\n",
        "conv_layer1 = MaxPool3D(pool_size=2)(conv_layer1)\n",
        "conv_layer1 = Dropout(0.25)(conv_layer1)\n",
        "conv_layer1 = BatchNormalization()(conv_layer1)\n",
        "conv_layer2 = Conv3D(filters= 128, kernel_size=(3, 3, 3), activation='relu',padding = 'same', kernel_initializer=initializer)(conv_layer1)\n",
        "conv_layer2 = MaxPool3D(pool_size=2)(conv_layer2)\n",
        "conv_layer2 = Dropout(0.25)(conv_layer2)\n",
        "conv_layer2 = BatchNormalization()(conv_layer2)\n",
        "conv_layer3 = Conv3D(filters=256, kernel_size=(3, 3, 3), activation='relu',padding = 'same', kernel_initializer=initializer)(conv_layer2) #128\n",
        "conv_layer3 = Dropout(0.25)(conv_layer3)\n",
        "conv_layer3 = MaxPool3D(pool_size=2)(conv_layer3)\n",
        "conv_layer3 = BatchNormalization()(conv_layer3)\n",
        "conv3d_shape = conv_layer3.shape\n",
        "conv_layer3r = Reshape((conv3d_shape[1], conv3d_shape[2], conv3d_shape[3]*conv3d_shape[4]))(conv_layer3)\n",
        "conv_layer4 = Conv2D(filters=256, kernel_size=(3,3), activation='relu',padding='same')(conv_layer3r)#256\n",
        "conv_layer4d = Dropout(0.25)(conv_layer4)\n",
        "FLATTEN1 = Flatten(name='FLATTEN1')(conv_layer1)\n",
        "FLATTEN2 = Flatten(name='FLATTEN2')(conv_layer2)\n",
        "FLATTEN3 = Flatten(name='FLATTEN3')(conv_layer3)\n",
        "FLATTEN4 = Flatten(name='FLATTEN4')(conv_layer4d)\n",
        "DENSE1 = spnet(FLATTEN1,256,128,'feature_dense1') \n",
        "DENSE2 = spnet(FLATTEN2,256,128, 'feature_dense2') \n",
        "DENSE3 = spnet(FLATTEN3,256,128, 'feature_dense3') \n",
        "DENSE4 = spnet(FLATTEN4,256,128, 'feature_dense4') \n",
        "CNNDense = Add()([DENSE1, DENSE2, DENSE3, DENSE4])\n",
        "out = Lambda(lambda x:x[:, 0:Half_width])(CNNDense)#(flatten_layer)\n",
        "dense_layer1 = Dense(units = layer_width, activation='relu',input_shape=(Half_width,))(out) #(flatten_layer[:, 0:Half_width])\n",
        "dense_layer1 = Dropout(0.25)(dense_layer1) #0.25 \n",
        "out = Lambda(lambda x:x[:, Half_width:2*Half_width])(CNNDense)#(flatten_layer)\n",
        "out1 = (Concatenate(axis = 1))([out, dense_layer1])\n",
        "dense_layer2 = Dense(units = layer_width, activation='relu',input_shape=(Half_width + layer_width,))(out1)#(Concatenate(axis = 1))(out, dense_layer1)#([flatten_layer[:, Half_width:2*Half_width], dense_layer1])\n",
        "dense_layer2 = Dropout(0.3)(dense_layer2) #0.3 \n",
        "\n",
        "\n",
        "out = Lambda(lambda x:x[:,0:Half_width])(dense_layer2)\n",
        "out1 = (Concatenate(axis = 1))([out, dense_layer2])\n",
        "dense_layer3 = Dense(units=layer_width, activation='relu',input_shape=(Half_width,))(out1)#(Concatenate(axis = 1))([flatten_layer[:, 0:Half_width], dense_layer2])\n",
        "dense_layer3 = Dropout(0.4)(dense_layer3) #0.4 \n",
        "\n",
        "\n",
        "out = Lambda(lambda x:x[:, Half_width:2*Half_width])(dense_layer3)\n",
        "out1 = (Concatenate(axis = 1))([out, dense_layer3])\n",
        "dense_layer4 = Dense(units=layer_width, activation='relu',input_shape=(Half_width + layer_width,))(out1)#(Concatenate(axis = 1))([flatten_layer[:,Half_width:2*Half_width], dense_layer3])\n",
        "dense_layer4 = Dropout(0.5)(dense_layer4) #0.45 5\n",
        "\n",
        "x = Concatenate(axis = 1)([dense_layer1, dense_layer2])\n",
        "x = Concatenate(axis = 1)([x, dense_layer3])\n",
        "x = Concatenate(axis = 1, name = 'features_dense')([x, dense_layer4])\n",
        "\n",
        "\n",
        "\n",
        "output_layer = Dense(units=output_units, activation='softmax')(x) # (DENSE5)\n",
        "\"\"\"\n",
        "# define the model with input layer and output layer\n",
        "model = Model(inputs=input_layer, outputs=output_layer)\n",
        "adam = Adam(lr=0.001, decay=1e-06)\n",
        "model.compile(loss='categorical_crossentropy', optimizer=adam, metrics=['accuracy'])\n",
        "\"\"\""
      ]
    },
    {
      "cell_type": "code",
      "execution_count": null,
      "metadata": {
        "id": "5fWyVr_a6pVA"
      },
      "outputs": [],
      "source": [
        "# define the model with input layer and output layer\n",
        "model = Model(inputs=input_layer, outputs=output_layer)"
      ]
    },
    {
      "cell_type": "markdown",
      "source": [
        "# Summary of the proposed HybridMSSN model"
      ],
      "metadata": {
        "id": "LLzTw2ImvL-T"
      }
    },
    {
      "cell_type": "code",
      "execution_count": null,
      "metadata": {
        "colab": {
          "base_uri": "https://localhost:8080/"
        },
        "id": "dwnt811v6pVA",
        "outputId": "5e32a645-9ebd-41e6-8f10-43a000ed0536"
      },
      "outputs": [
        {
          "output_type": "stream",
          "name": "stdout",
          "text": [
            "Model: \"model\"\n",
            "__________________________________________________________________________________________________\n",
            " Layer (type)                   Output Shape         Param #     Connected to                     \n",
            "==================================================================================================\n",
            " input_1 (InputLayer)           [(None, 13, 13, 30,  0           []                               \n",
            "                                 1)]                                                              \n",
            "                                                                                                  \n",
            " conv3d (Conv3D)                (None, 13, 13, 30,   1792        ['input_1[0][0]']                \n",
            "                                64)                                                               \n",
            "                                                                                                  \n",
            " max_pooling3d (MaxPooling3D)   (None, 6, 6, 15, 64  0           ['conv3d[0][0]']                 \n",
            "                                )                                                                 \n",
            "                                                                                                  \n",
            " dropout (Dropout)              (None, 6, 6, 15, 64  0           ['max_pooling3d[0][0]']          \n",
            "                                )                                                                 \n",
            "                                                                                                  \n",
            " batch_normalization (BatchNorm  (None, 6, 6, 15, 64  256        ['dropout[0][0]']                \n",
            " alization)                     )                                                                 \n",
            "                                                                                                  \n",
            " conv3d_1 (Conv3D)              (None, 6, 6, 15, 12  221312      ['batch_normalization[0][0]']    \n",
            "                                8)                                                                \n",
            "                                                                                                  \n",
            " max_pooling3d_1 (MaxPooling3D)  (None, 3, 3, 7, 128  0          ['conv3d_1[0][0]']               \n",
            "                                )                                                                 \n",
            "                                                                                                  \n",
            " dropout_1 (Dropout)            (None, 3, 3, 7, 128  0           ['max_pooling3d_1[0][0]']        \n",
            "                                )                                                                 \n",
            "                                                                                                  \n",
            " batch_normalization_1 (BatchNo  (None, 3, 3, 7, 128  512        ['dropout_1[0][0]']              \n",
            " rmalization)                   )                                                                 \n",
            "                                                                                                  \n",
            " conv3d_2 (Conv3D)              (None, 3, 3, 7, 256  884992      ['batch_normalization_1[0][0]']  \n",
            "                                )                                                                 \n",
            "                                                                                                  \n",
            " dropout_2 (Dropout)            (None, 3, 3, 7, 256  0           ['conv3d_2[0][0]']               \n",
            "                                )                                                                 \n",
            "                                                                                                  \n",
            " max_pooling3d_2 (MaxPooling3D)  (None, 1, 1, 3, 256  0          ['dropout_2[0][0]']              \n",
            "                                )                                                                 \n",
            "                                                                                                  \n",
            " batch_normalization_2 (BatchNo  (None, 1, 1, 3, 256  1024       ['max_pooling3d_2[0][0]']        \n",
            " rmalization)                   )                                                                 \n",
            "                                                                                                  \n",
            " reshape (Reshape)              (None, 1, 1, 768)    0           ['batch_normalization_2[0][0]']  \n",
            "                                                                                                  \n",
            " conv2d (Conv2D)                (None, 1, 1, 256)    1769728     ['reshape[0][0]']                \n",
            "                                                                                                  \n",
            " dropout_3 (Dropout)            (None, 1, 1, 256)    0           ['conv2d[0][0]']                 \n",
            "                                                                                                  \n",
            " FLATTEN1 (Flatten)             (None, 34560)        0           ['batch_normalization[0][0]']    \n",
            "                                                                                                  \n",
            " FLATTEN2 (Flatten)             (None, 8064)         0           ['batch_normalization_1[0][0]']  \n",
            "                                                                                                  \n",
            " FLATTEN3 (Flatten)             (None, 768)          0           ['batch_normalization_2[0][0]']  \n",
            "                                                                                                  \n",
            " FLATTEN4 (Flatten)             (None, 256)          0           ['dropout_3[0][0]']              \n",
            "                                                                                                  \n",
            " lambda (Lambda)                (None, 256)          0           ['FLATTEN1[0][0]']               \n",
            "                                                                                                  \n",
            " lambda_4 (Lambda)              (None, 256)          0           ['FLATTEN2[0][0]']               \n",
            "                                                                                                  \n",
            " lambda_8 (Lambda)              (None, 256)          0           ['FLATTEN3[0][0]']               \n",
            "                                                                                                  \n",
            " lambda_12 (Lambda)             (None, 256)          0           ['FLATTEN4[0][0]']               \n",
            "                                                                                                  \n",
            " dense (Dense)                  (None, 128)          32896       ['lambda[0][0]']                 \n",
            "                                                                                                  \n",
            " dense_4 (Dense)                (None, 128)          32896       ['lambda_4[0][0]']               \n",
            "                                                                                                  \n",
            " dense_8 (Dense)                (None, 128)          32896       ['lambda_8[0][0]']               \n",
            "                                                                                                  \n",
            " dense_12 (Dense)               (None, 128)          32896       ['lambda_12[0][0]']              \n",
            "                                                                                                  \n",
            " dropout_4 (Dropout)            (None, 128)          0           ['dense[0][0]']                  \n",
            "                                                                                                  \n",
            " lambda_1 (Lambda)              (None, 256)          0           ['FLATTEN1[0][0]']               \n",
            "                                                                                                  \n",
            " dropout_8 (Dropout)            (None, 128)          0           ['dense_4[0][0]']                \n",
            "                                                                                                  \n",
            " lambda_5 (Lambda)              (None, 256)          0           ['FLATTEN2[0][0]']               \n",
            "                                                                                                  \n",
            " dropout_12 (Dropout)           (None, 128)          0           ['dense_8[0][0]']                \n",
            "                                                                                                  \n",
            " lambda_9 (Lambda)              (None, 256)          0           ['FLATTEN3[0][0]']               \n",
            "                                                                                                  \n",
            " dropout_16 (Dropout)           (None, 128)          0           ['dense_12[0][0]']               \n",
            "                                                                                                  \n",
            " lambda_13 (Lambda)             (None, 0)            0           ['FLATTEN4[0][0]']               \n",
            "                                                                                                  \n",
            " concatenate (Concatenate)      (None, 384)          0           ['lambda_1[0][0]',               \n",
            "                                                                  'dropout_4[0][0]']              \n",
            "                                                                                                  \n",
            " concatenate_5 (Concatenate)    (None, 384)          0           ['lambda_5[0][0]',               \n",
            "                                                                  'dropout_8[0][0]']              \n",
            "                                                                                                  \n",
            " concatenate_10 (Concatenate)   (None, 384)          0           ['lambda_9[0][0]',               \n",
            "                                                                  'dropout_12[0][0]']             \n",
            "                                                                                                  \n",
            " concatenate_15 (Concatenate)   (None, 128)          0           ['lambda_13[0][0]',              \n",
            "                                                                  'dropout_16[0][0]']             \n",
            "                                                                                                  \n",
            " dense_1 (Dense)                (None, 128)          49280       ['concatenate[0][0]']            \n",
            "                                                                                                  \n",
            " dense_5 (Dense)                (None, 128)          49280       ['concatenate_5[0][0]']          \n",
            "                                                                                                  \n",
            " dense_9 (Dense)                (None, 128)          49280       ['concatenate_10[0][0]']         \n",
            "                                                                                                  \n",
            " dense_13 (Dense)               (None, 128)          16512       ['concatenate_15[0][0]']         \n",
            "                                                                                                  \n",
            " dropout_5 (Dropout)            (None, 128)          0           ['dense_1[0][0]']                \n",
            "                                                                                                  \n",
            " dropout_9 (Dropout)            (None, 128)          0           ['dense_5[0][0]']                \n",
            "                                                                                                  \n",
            " dropout_13 (Dropout)           (None, 128)          0           ['dense_9[0][0]']                \n",
            "                                                                                                  \n",
            " dropout_17 (Dropout)           (None, 128)          0           ['dense_13[0][0]']               \n",
            "                                                                                                  \n",
            " lambda_2 (Lambda)              (None, 128)          0           ['dropout_5[0][0]']              \n",
            "                                                                                                  \n",
            " lambda_6 (Lambda)              (None, 128)          0           ['dropout_9[0][0]']              \n",
            "                                                                                                  \n",
            " lambda_10 (Lambda)             (None, 128)          0           ['dropout_13[0][0]']             \n",
            "                                                                                                  \n",
            " lambda_14 (Lambda)             (None, 128)          0           ['dropout_17[0][0]']             \n",
            "                                                                                                  \n",
            " concatenate_1 (Concatenate)    (None, 256)          0           ['lambda_2[0][0]',               \n",
            "                                                                  'dropout_5[0][0]']              \n",
            "                                                                                                  \n",
            " concatenate_6 (Concatenate)    (None, 256)          0           ['lambda_6[0][0]',               \n",
            "                                                                  'dropout_9[0][0]']              \n",
            "                                                                                                  \n",
            " concatenate_11 (Concatenate)   (None, 256)          0           ['lambda_10[0][0]',              \n",
            "                                                                  'dropout_13[0][0]']             \n",
            "                                                                                                  \n",
            " concatenate_16 (Concatenate)   (None, 256)          0           ['lambda_14[0][0]',              \n",
            "                                                                  'dropout_17[0][0]']             \n",
            "                                                                                                  \n",
            " dense_2 (Dense)                (None, 128)          32896       ['concatenate_1[0][0]']          \n",
            "                                                                                                  \n",
            " dense_6 (Dense)                (None, 128)          32896       ['concatenate_6[0][0]']          \n",
            "                                                                                                  \n",
            " dense_10 (Dense)               (None, 128)          32896       ['concatenate_11[0][0]']         \n",
            "                                                                                                  \n",
            " dense_14 (Dense)               (None, 128)          32896       ['concatenate_16[0][0]']         \n",
            "                                                                                                  \n",
            " dropout_6 (Dropout)            (None, 128)          0           ['dense_2[0][0]']                \n",
            "                                                                                                  \n",
            " dropout_10 (Dropout)           (None, 128)          0           ['dense_6[0][0]']                \n",
            "                                                                                                  \n",
            " dropout_14 (Dropout)           (None, 128)          0           ['dense_10[0][0]']               \n",
            "                                                                                                  \n",
            " dropout_18 (Dropout)           (None, 128)          0           ['dense_14[0][0]']               \n",
            "                                                                                                  \n",
            " lambda_3 (Lambda)              (None, 0)            0           ['dropout_6[0][0]']              \n",
            "                                                                                                  \n",
            " lambda_7 (Lambda)              (None, 0)            0           ['dropout_10[0][0]']             \n",
            "                                                                                                  \n",
            " lambda_11 (Lambda)             (None, 0)            0           ['dropout_14[0][0]']             \n",
            "                                                                                                  \n",
            " lambda_15 (Lambda)             (None, 0)            0           ['dropout_18[0][0]']             \n",
            "                                                                                                  \n",
            " concatenate_2 (Concatenate)    (None, 128)          0           ['lambda_3[0][0]',               \n",
            "                                                                  'dropout_6[0][0]']              \n",
            "                                                                                                  \n",
            " concatenate_7 (Concatenate)    (None, 128)          0           ['lambda_7[0][0]',               \n",
            "                                                                  'dropout_10[0][0]']             \n",
            "                                                                                                  \n",
            " concatenate_12 (Concatenate)   (None, 128)          0           ['lambda_11[0][0]',              \n",
            "                                                                  'dropout_14[0][0]']             \n",
            "                                                                                                  \n",
            " concatenate_17 (Concatenate)   (None, 128)          0           ['lambda_15[0][0]',              \n",
            "                                                                  'dropout_18[0][0]']             \n",
            "                                                                                                  \n",
            " concatenate_3 (Concatenate)    (None, 256)          0           ['dropout_4[0][0]',              \n",
            "                                                                  'dropout_5[0][0]']              \n",
            "                                                                                                  \n",
            " dense_3 (Dense)                (None, 128)          16512       ['concatenate_2[0][0]']          \n",
            "                                                                                                  \n",
            " concatenate_8 (Concatenate)    (None, 256)          0           ['dropout_8[0][0]',              \n",
            "                                                                  'dropout_9[0][0]']              \n",
            "                                                                                                  \n",
            " dense_7 (Dense)                (None, 128)          16512       ['concatenate_7[0][0]']          \n",
            "                                                                                                  \n",
            " concatenate_13 (Concatenate)   (None, 256)          0           ['dropout_12[0][0]',             \n",
            "                                                                  'dropout_13[0][0]']             \n",
            "                                                                                                  \n",
            " dense_11 (Dense)               (None, 128)          16512       ['concatenate_12[0][0]']         \n",
            "                                                                                                  \n",
            " concatenate_18 (Concatenate)   (None, 256)          0           ['dropout_16[0][0]',             \n",
            "                                                                  'dropout_17[0][0]']             \n",
            "                                                                                                  \n",
            " dense_15 (Dense)               (None, 128)          16512       ['concatenate_17[0][0]']         \n",
            "                                                                                                  \n",
            " concatenate_4 (Concatenate)    (None, 384)          0           ['concatenate_3[0][0]',          \n",
            "                                                                  'dropout_6[0][0]']              \n",
            "                                                                                                  \n",
            " dropout_7 (Dropout)            (None, 128)          0           ['dense_3[0][0]']                \n",
            "                                                                                                  \n",
            " concatenate_9 (Concatenate)    (None, 384)          0           ['concatenate_8[0][0]',          \n",
            "                                                                  'dropout_10[0][0]']             \n",
            "                                                                                                  \n",
            " dropout_11 (Dropout)           (None, 128)          0           ['dense_7[0][0]']                \n",
            "                                                                                                  \n",
            " concatenate_14 (Concatenate)   (None, 384)          0           ['concatenate_13[0][0]',         \n",
            "                                                                  'dropout_14[0][0]']             \n",
            "                                                                                                  \n",
            " dropout_15 (Dropout)           (None, 128)          0           ['dense_11[0][0]']               \n",
            "                                                                                                  \n",
            " concatenate_19 (Concatenate)   (None, 384)          0           ['concatenate_18[0][0]',         \n",
            "                                                                  'dropout_18[0][0]']             \n",
            "                                                                                                  \n",
            " dropout_19 (Dropout)           (None, 128)          0           ['dense_15[0][0]']               \n",
            "                                                                                                  \n",
            " feature_dense1 (Concatenate)   (None, 512)          0           ['concatenate_4[0][0]',          \n",
            "                                                                  'dropout_7[0][0]']              \n",
            "                                                                                                  \n",
            " feature_dense2 (Concatenate)   (None, 512)          0           ['concatenate_9[0][0]',          \n",
            "                                                                  'dropout_11[0][0]']             \n",
            "                                                                                                  \n",
            " feature_dense3 (Concatenate)   (None, 512)          0           ['concatenate_14[0][0]',         \n",
            "                                                                  'dropout_15[0][0]']             \n",
            "                                                                                                  \n",
            " feature_dense4 (Concatenate)   (None, 512)          0           ['concatenate_19[0][0]',         \n",
            "                                                                  'dropout_19[0][0]']             \n",
            "                                                                                                  \n",
            " add (Add)                      (None, 512)          0           ['feature_dense1[0][0]',         \n",
            "                                                                  'feature_dense2[0][0]',         \n",
            "                                                                  'feature_dense3[0][0]',         \n",
            "                                                                  'feature_dense4[0][0]']         \n",
            "                                                                                                  \n",
            " lambda_16 (Lambda)             (None, 128)          0           ['add[0][0]']                    \n",
            "                                                                                                  \n",
            " dense_16 (Dense)               (None, 256)          33024       ['lambda_16[0][0]']              \n",
            "                                                                                                  \n",
            " dropout_20 (Dropout)           (None, 256)          0           ['dense_16[0][0]']               \n",
            "                                                                                                  \n",
            " lambda_17 (Lambda)             (None, 128)          0           ['add[0][0]']                    \n",
            "                                                                                                  \n",
            " concatenate_20 (Concatenate)   (None, 384)          0           ['lambda_17[0][0]',              \n",
            "                                                                  'dropout_20[0][0]']             \n",
            "                                                                                                  \n",
            " dense_17 (Dense)               (None, 256)          98560       ['concatenate_20[0][0]']         \n",
            "                                                                                                  \n",
            " dropout_21 (Dropout)           (None, 256)          0           ['dense_17[0][0]']               \n",
            "                                                                                                  \n",
            " lambda_18 (Lambda)             (None, 128)          0           ['dropout_21[0][0]']             \n",
            "                                                                                                  \n",
            " concatenate_21 (Concatenate)   (None, 384)          0           ['lambda_18[0][0]',              \n",
            "                                                                  'dropout_21[0][0]']             \n",
            "                                                                                                  \n",
            " dense_18 (Dense)               (None, 256)          98560       ['concatenate_21[0][0]']         \n",
            "                                                                                                  \n",
            " dropout_22 (Dropout)           (None, 256)          0           ['dense_18[0][0]']               \n",
            "                                                                                                  \n",
            " lambda_19 (Lambda)             (None, 128)          0           ['dropout_22[0][0]']             \n",
            "                                                                                                  \n",
            " concatenate_22 (Concatenate)   (None, 384)          0           ['lambda_19[0][0]',              \n",
            "                                                                  'dropout_22[0][0]']             \n",
            "                                                                                                  \n",
            " concatenate_23 (Concatenate)   (None, 512)          0           ['dropout_20[0][0]',             \n",
            "                                                                  'dropout_21[0][0]']             \n",
            "                                                                                                  \n",
            " dense_19 (Dense)               (None, 256)          98560       ['concatenate_22[0][0]']         \n",
            "                                                                                                  \n",
            " concatenate_24 (Concatenate)   (None, 768)          0           ['concatenate_23[0][0]',         \n",
            "                                                                  'dropout_22[0][0]']             \n",
            "                                                                                                  \n",
            " dropout_23 (Dropout)           (None, 256)          0           ['dense_19[0][0]']               \n",
            "                                                                                                  \n",
            " features_dense (Concatenate)   (None, 1024)         0           ['concatenate_24[0][0]',         \n",
            "                                                                  'dropout_23[0][0]']             \n",
            "                                                                                                  \n",
            " dense_20 (Dense)               (None, 16)           16400       ['features_dense[0][0]']         \n",
            "                                                                                                  \n",
            "==================================================================================================\n",
            "Total params: 3,718,288\n",
            "Trainable params: 3,717,392\n",
            "Non-trainable params: 896\n",
            "__________________________________________________________________________________________________\n"
          ]
        }
      ],
      "source": [
        "model.summary()"
      ]
    },
    {
      "cell_type": "code",
      "execution_count": null,
      "metadata": {
        "id": "TydE_j9DfbWP"
      },
      "outputs": [],
      "source": [
        "#plot_model(model, to_file='HybridSpinalNet_model_plot.png', show_shapes=True, show_layer_names=True, dpi = 300)"
      ]
    },
    {
      "cell_type": "markdown",
      "source": [
        "# Model compilation"
      ],
      "metadata": {
        "id": "ZsCyn4FGvSxr"
      }
    },
    {
      "cell_type": "code",
      "execution_count": null,
      "metadata": {
        "colab": {
          "base_uri": "https://localhost:8080/"
        },
        "id": "ytGRnwBw6pVB",
        "outputId": "2aaed471-c72c-46b4-8ed1-619b8b4f1999"
      },
      "outputs": [
        {
          "output_type": "stream",
          "name": "stderr",
          "text": [
            "/usr/local/lib/python3.7/dist-packages/keras/optimizer_v2/adam.py:105: UserWarning:\n",
            "\n",
            "The `lr` argument is deprecated, use `learning_rate` instead.\n",
            "\n"
          ]
        }
      ],
      "source": [
        "# compiling the model\n",
        "adam = Adam(lr=0.001, decay=1e-06)\n",
        "model.compile(loss='categorical_crossentropy', optimizer=adam, metrics=['accuracy'])"
      ]
    },
    {
      "cell_type": "code",
      "execution_count": null,
      "metadata": {
        "id": "uP9K_QYH6pVB"
      },
      "outputs": [],
      "source": [
        "# checkpoint\n",
        "filepath = \"best-model.hdf5\"\n",
        "checkpoint = ModelCheckpoint(filepath, monitor='accuracy', verbose=1, save_best_only=True, mode='max')\n",
        "callbacks_list = [checkpoint]"
      ]
    },
    {
      "cell_type": "markdown",
      "source": [
        "# Train the model and note the training time"
      ],
      "metadata": {
        "id": "OsnnfoVBvXiy"
      }
    },
    {
      "cell_type": "code",
      "execution_count": null,
      "metadata": {
        "colab": {
          "base_uri": "https://localhost:8080/"
        },
        "id": "6BWxYyVj6pVB",
        "outputId": "4f27fb82-df71-4a3d-f9a8-260972897b55"
      },
      "outputs": [
        {
          "output_type": "stream",
          "name": "stdout",
          "text": [
            "Epoch 1/50\n",
            "153/153 [==============================] - ETA: 0s - loss: 0.2581 - accuracy: 0.9170\n",
            "Epoch 1: accuracy improved from -inf to 0.91697, saving model to best-model.hdf5\n",
            "153/153 [==============================] - 21s 101ms/step - loss: 0.2581 - accuracy: 0.9170 - val_loss: 1.6608 - val_accuracy: 0.6377\n",
            "Epoch 2/50\n",
            "152/153 [============================>.] - ETA: 0s - loss: 0.0126 - accuracy: 0.9962\n",
            "Epoch 2: accuracy improved from 0.91697 to 0.99618, saving model to best-model.hdf5\n",
            "153/153 [==============================] - 15s 96ms/step - loss: 0.0126 - accuracy: 0.9962 - val_loss: 0.3385 - val_accuracy: 0.9210\n",
            "Epoch 3/50\n",
            "152/153 [============================>.] - ETA: 0s - loss: 0.0083 - accuracy: 0.9977\n",
            "Epoch 3: accuracy improved from 0.99618 to 0.99769, saving model to best-model.hdf5\n",
            "153/153 [==============================] - 15s 96ms/step - loss: 0.0083 - accuracy: 0.9977 - val_loss: 0.0056 - val_accuracy: 0.9986\n",
            "Epoch 4/50\n",
            "152/153 [============================>.] - ETA: 0s - loss: 0.0037 - accuracy: 0.9992\n",
            "Epoch 4: accuracy improved from 0.99769 to 0.99920, saving model to best-model.hdf5\n",
            "153/153 [==============================] - 15s 96ms/step - loss: 0.0037 - accuracy: 0.9992 - val_loss: 3.3036e-04 - val_accuracy: 1.0000\n",
            "Epoch 5/50\n",
            "152/153 [============================>.] - ETA: 0s - loss: 0.0023 - accuracy: 0.9993\n",
            "Epoch 5: accuracy improved from 0.99920 to 0.99926, saving model to best-model.hdf5\n",
            "153/153 [==============================] - 15s 96ms/step - loss: 0.0023 - accuracy: 0.9993 - val_loss: 7.5644e-04 - val_accuracy: 0.9998\n",
            "Epoch 6/50\n",
            "152/153 [============================>.] - ETA: 0s - loss: 0.0057 - accuracy: 0.9984\n",
            "Epoch 6: accuracy did not improve from 0.99926\n",
            "153/153 [==============================] - 14s 94ms/step - loss: 0.0057 - accuracy: 0.9984 - val_loss: 0.0027 - val_accuracy: 0.9991\n",
            "Epoch 7/50\n",
            "152/153 [============================>.] - ETA: 0s - loss: 0.0039 - accuracy: 0.9988\n",
            "Epoch 7: accuracy did not improve from 0.99926\n",
            "153/153 [==============================] - 15s 95ms/step - loss: 0.0039 - accuracy: 0.9988 - val_loss: 0.0012 - val_accuracy: 0.9993\n",
            "Epoch 8/50\n",
            "152/153 [============================>.] - ETA: 0s - loss: 0.0030 - accuracy: 0.9992\n",
            "Epoch 8: accuracy did not improve from 0.99926\n",
            "153/153 [==============================] - 14s 95ms/step - loss: 0.0030 - accuracy: 0.9992 - val_loss: 2.8437e-05 - val_accuracy: 1.0000\n",
            "Epoch 9/50\n",
            "152/153 [============================>.] - ETA: 0s - loss: 8.6017e-04 - accuracy: 0.9998\n",
            "Epoch 9: accuracy improved from 0.99926 to 0.99979, saving model to best-model.hdf5\n",
            "153/153 [==============================] - 15s 96ms/step - loss: 8.5922e-04 - accuracy: 0.9998 - val_loss: 0.0028 - val_accuracy: 0.9995\n",
            "Epoch 10/50\n",
            "152/153 [============================>.] - ETA: 0s - loss: 0.0091 - accuracy: 0.9978\n",
            "Epoch 10: accuracy did not improve from 0.99979\n",
            "153/153 [==============================] - 14s 95ms/step - loss: 0.0090 - accuracy: 0.9978 - val_loss: 0.0053 - val_accuracy: 0.9984\n",
            "Epoch 11/50\n",
            "152/153 [============================>.] - ETA: 0s - loss: 0.0033 - accuracy: 0.9991\n",
            "Epoch 11: accuracy did not improve from 0.99979\n",
            "153/153 [==============================] - 14s 95ms/step - loss: 0.0033 - accuracy: 0.9991 - val_loss: 6.0952e-04 - val_accuracy: 0.9998\n",
            "Epoch 12/50\n",
            "152/153 [============================>.] - ETA: 0s - loss: 0.0012 - accuracy: 0.9997\n",
            "Epoch 12: accuracy did not improve from 0.99979\n",
            "153/153 [==============================] - 14s 94ms/step - loss: 0.0012 - accuracy: 0.9997 - val_loss: 3.5473e-04 - val_accuracy: 0.9998\n",
            "Epoch 13/50\n",
            "152/153 [============================>.] - ETA: 0s - loss: 0.0018 - accuracy: 0.9996\n",
            "Epoch 13: accuracy did not improve from 0.99979\n",
            "153/153 [==============================] - 14s 94ms/step - loss: 0.0018 - accuracy: 0.9996 - val_loss: 0.0034 - val_accuracy: 0.9991\n",
            "Epoch 14/50\n",
            "152/153 [============================>.] - ETA: 0s - loss: 0.0173 - accuracy: 0.9966\n",
            "Epoch 14: accuracy did not improve from 0.99979\n",
            "153/153 [==============================] - 15s 97ms/step - loss: 0.0173 - accuracy: 0.9966 - val_loss: 0.0128 - val_accuracy: 0.9988\n",
            "Epoch 15/50\n",
            "137/153 [=========================>....] - ETA: 1s - loss: 0.0057 - accuracy: 0.9986"
          ]
        }
      ],
      "source": [
        "start_time = time.time()\n",
        "history = model.fit(Xtrain, ytrain, batch_size = 256, epochs= 50, callbacks=callbacks_list, verbose=1, validation_split=0.1)# ,validation_data=(Xtest, ytest)) #256\n",
        "train_time = time.time() - start_time"
      ]
    },
    {
      "cell_type": "markdown",
      "source": [
        "# Note the Testing time"
      ],
      "metadata": {
        "id": "CFEgCAAcvsmm"
      }
    },
    {
      "cell_type": "code",
      "execution_count": null,
      "metadata": {
        "id": "5h6eIsPSpjhB"
      },
      "outputs": [],
      "source": [
        "start_time = time.time()\n",
        "score = model.evaluate(Xtest, ytest, verbose=1)\n",
        "test_time = time.time() - start_time"
      ]
    },
    {
      "cell_type": "markdown",
      "source": [
        "# Classification Report"
      ],
      "metadata": {
        "id": "tcpCBkn1vzgN"
      }
    },
    {
      "cell_type": "code",
      "execution_count": null,
      "metadata": {
        "id": "FvyRptX-OHb9"
      },
      "outputs": [],
      "source": [
        "Y_pred_test = model.predict(Xtest)\n",
        "y_pred_test = np.argmax(Y_pred_test, axis=1)\n",
        "\n",
        "classification = classification_report(np.argmax(ytest, axis=1), y_pred_test)\n",
        "print(classification)"
      ]
    },
    {
      "cell_type": "markdown",
      "source": [
        "# Function to compute Average Accuracy and Each Class Accuracy"
      ],
      "metadata": {
        "id": "gg8Gg-0Uv4EI"
      }
    },
    {
      "cell_type": "code",
      "execution_count": null,
      "metadata": {
        "id": "vLz4I0MHOI8l"
      },
      "outputs": [],
      "source": [
        "def AA_andEachClassAccuracy(confusion_matrix):\n",
        "    counter = confusion_matrix.shape[0]\n",
        "    list_diag = np.diag(confusion_matrix)\n",
        "    list_raw_sum = np.sum(confusion_matrix, axis=1)\n",
        "    each_acc = np.nan_to_num(truediv(list_diag, list_raw_sum))\n",
        "    average_acc = np.mean(each_acc)\n",
        "    return each_acc, average_acc"
      ]
    },
    {
      "cell_type": "markdown",
      "source": [
        "# Computation of Classification Accuracies, Confusion Matrix and Loss"
      ],
      "metadata": {
        "id": "am14GOMawJrW"
      }
    },
    {
      "cell_type": "code",
      "execution_count": null,
      "metadata": {
        "id": "mUJlwtwSOQNe"
      },
      "outputs": [],
      "source": [
        "def reports (X_test,y_test,name):\n",
        "    #start = time.time()\n",
        "    Y_pred = model.predict(X_test)\n",
        "    y_pred = np.argmax(Y_pred, axis=1)\n",
        "    #end = time.time()\n",
        "    #print(end - start)\n",
        "    if name == 'IP':\n",
        "        target_names = ['Alfalfa', 'Corn-notill', 'Corn-mintill', 'Corn'\n",
        "                        ,'Grass-pasture', 'Grass-trees', 'Grass-pasture-mowed', \n",
        "                        'Hay-windrowed', 'Oats', 'Soybean-notill', 'Soybean-mintill',\n",
        "                        'Soybean-clean', 'Wheat', 'Woods', 'Buildings-Grass-Trees-Drives',\n",
        "                        'Stone-Steel-Towers']\n",
        "    elif name == 'SA':\n",
        "        target_names = ['Brocoli_green_weeds_1','Brocoli_green_weeds_2','Fallow','Fallow_rough_plow','Fallow_smooth',\n",
        "                        'Stubble','Celery','Grapes_untrained','Soil_vinyard_develop','Corn_senesced_green_weeds',\n",
        "                        'Lettuce_romaine_4wk','Lettuce_romaine_5wk','Lettuce_romaine_6wk','Lettuce_romaine_7wk',\n",
        "                        'Vinyard_untrained','Vinyard_vertical_trellis']\n",
        "    elif name == 'PU':\n",
        "        target_names = ['Asphalt','Meadows','Gravel','Trees', 'Painted metal sheets','Bare Soil','Bitumen',\n",
        "                        'Self-Blocking Bricks','Shadows']\n",
        "    elif name == 'KSC':\n",
        "        target_names = ['Scrub','Willow swamp','CP hammock','Slash pine','Oak/Broadleaf','Hardwood','Swamp','Graminoid marsh','Spartina marsh','Cattail marsh','Salt marsh','Mud flats','Water']\n",
        "    \n",
        "    classification = classification_report(np.argmax(y_test, axis=1), y_pred, target_names=target_names)\n",
        "    oa = accuracy_score(np.argmax(y_test, axis=1), y_pred)\n",
        "    confusion = confusion_matrix(np.argmax(y_test, axis=1), y_pred)\n",
        "    each_acc, aa = AA_andEachClassAccuracy(confusion)\n",
        "    kappa = cohen_kappa_score(np.argmax(y_test, axis=1), y_pred)\n",
        "    score = model.evaluate(X_test, y_test, batch_size=32)\n",
        "    Test_Loss =  score[0]*100\n",
        "    Test_accuracy = score[1]*100\n",
        "    \n",
        "    return classification, confusion, Test_Loss, Test_accuracy, oa*100, each_acc*100, aa*100, kappa*100"
      ]
    },
    {
      "cell_type": "markdown",
      "source": [
        "# Write the Classification report into a text file."
      ],
      "metadata": {
        "id": "v2O8kuFVwZkG"
      }
    },
    {
      "cell_type": "code",
      "execution_count": null,
      "metadata": {
        "id": "TfQ14ppYORUc"
      },
      "outputs": [],
      "source": [
        "classification, confusion, Test_loss, Test_accuracy, oa, each_acc, aa, kappa = reports(Xtest,ytest,dataset)\n",
        "classification = str(classification)\n",
        "confusion = str(confusion)\n",
        "file_name = \"classification_report.txt\"\n",
        "\n",
        "with open(file_name, 'w') as x_file:\n",
        "    x_file.write('\\n')\n",
        "    x_file.write('training_samples_after_oversampling {}'.format(training_samples_after_oversampling))\n",
        "    x_file.write('\\n')\n",
        "    x_file.write('{} Test loss (%)'.format(Test_loss))\n",
        "    x_file.write('\\n')\n",
        "    x_file.write('{} Test accuracy (%)'.format(Test_accuracy))\n",
        "    x_file.write('\\n')\n",
        "    x_file.write('{} Kappa accuracy (%)'.format(kappa))\n",
        "    x_file.write('\\n')\n",
        "    x_file.write('{} Overall accuracy (%)'.format(oa))\n",
        "    x_file.write('\\n')\n",
        "    x_file.write('{} Average accuracy (%)'.format(aa))\n",
        "    x_file.write('\\n')\n",
        "    x_file.write('{}(seconds) train_time'.format(train_time))\n",
        "    x_file.write('\\n')\n",
        "    x_file.write('{}(seconds) test_time'.format(test_time))\n",
        "    x_file.write('\\n')\n",
        "    x_file.write('{}'.format(classification))\n",
        "    x_file.write('\\n')\n",
        "    x_file.write('{}'.format(confusion))"
      ]
    },
    {
      "cell_type": "code",
      "execution_count": null,
      "metadata": {
        "id": "KLMIYKSdb2LO"
      },
      "outputs": [],
      "source": [
        "k = 1\n",
        "for i in each_acc:\n",
        "  print('c%s='%k,i)\n",
        "  k = k+1"
      ]
    },
    {
      "cell_type": "markdown",
      "source": [
        "# Open the text file containing the  Classification Report and print them line by line."
      ],
      "metadata": {
        "id": "D-nxXsFJxNvy"
      }
    },
    {
      "cell_type": "code",
      "execution_count": null,
      "metadata": {
        "id": "D75SwMTFTL8l"
      },
      "outputs": [],
      "source": [
        "with open('classification_report.txt') as f:\n",
        "      line = f.readline()\n",
        "      while line:\n",
        "          line = f.readline()\n",
        "          print(line)"
      ]
    },
    {
      "cell_type": "code",
      "execution_count": null,
      "metadata": {
        "id": "dJocivx9UEnJ"
      },
      "outputs": [],
      "source": [
        "f.close()"
      ]
    },
    {
      "cell_type": "code",
      "execution_count": null,
      "metadata": {
        "id": "bsa9dzgoFIWD"
      },
      "outputs": [],
      "source": [
        "stop"
      ]
    },
    {
      "cell_type": "markdown",
      "source": [
        "# Generate the predicted Image"
      ],
      "metadata": {
        "id": "CS110we0xlJT"
      }
    },
    {
      "cell_type": "code",
      "execution_count": null,
      "metadata": {
        "id": "X9GBG2jf34RR"
      },
      "outputs": [],
      "source": [
        "height = labels.shape[0]\n",
        "width = labels.shape[1]\n",
        "PATCH_SIZE = windowSize\n",
        "numComponents = K"
      ]
    },
    {
      "cell_type": "code",
      "execution_count": null,
      "metadata": {
        "id": "2WlQ1hwY4bVY"
      },
      "outputs": [],
      "source": [
        "X,pca = applyPCA(X, numComponents=numComponents)"
      ]
    },
    {
      "cell_type": "code",
      "execution_count": null,
      "metadata": {
        "id": "I6dKoYcm5W7Q"
      },
      "outputs": [],
      "source": [
        "def Patch(data,height_index,width_index):\n",
        "    height_slice = slice(height_index, height_index+PATCH_SIZE)\n",
        "    width_slice = slice(width_index, width_index+PATCH_SIZE)\n",
        "    patch = data[height_slice, width_slice, :]\n",
        "    \n",
        "    return patch"
      ]
    },
    {
      "cell_type": "code",
      "execution_count": null,
      "metadata": {
        "id": "s14lwwCA4g0C"
      },
      "outputs": [],
      "source": [
        "X = padWithZeros(X, PATCH_SIZE//2)"
      ]
    },
    {
      "cell_type": "code",
      "execution_count": null,
      "metadata": {
        "id": "1iplpQiM4l9x"
      },
      "outputs": [],
      "source": [
        "# calculate the predicted image\n",
        "outputs = np.zeros((height,width))\n",
        "for i in range(height):\n",
        "    for j in range(width):\n",
        "        target = int(labels[i,j])\n",
        "        if target == 0 :\n",
        "            continue\n",
        "        else :\n",
        "            image_patch=Patch(X,i,j)\n",
        "            X_test_image = image_patch.reshape(1,image_patch.shape[0],image_patch.shape[1], image_patch.shape[2], 1).astype('float32')                                   \n",
        "            prediction = (model.predict(X_test_image))\n",
        "            prediction = np.argmax(prediction, axis=1)\n",
        "            outputs[i][j] = prediction+1"
      ]
    },
    {
      "cell_type": "code",
      "execution_count": null,
      "metadata": {
        "id": "xKDRPffKuLZh"
      },
      "outputs": [],
      "source": [
        "name = 'IP'"
      ]
    },
    {
      "cell_type": "code",
      "execution_count": null,
      "metadata": {
        "id": "crBC7szRt6b_"
      },
      "outputs": [],
      "source": [
        "if name == 'IP':\n",
        "    target_names = ['Background', 'Alfalfa', 'Corn-notill', 'Corn-mintill', 'Corn'\n",
        "                    ,'Grass-pasture', 'Grass-trees', 'Grass-pasture-mowed', \n",
        "                    'Hay-windrowed', 'Oats', 'Soybean-notill', 'Soybean-mintill',\n",
        "                    'Soybean-clean', 'Wheat', 'Woods', 'Buildings-Grass-Trees-Drives',\n",
        "                    'Stone-Steel-Towers']\n",
        "    targetClass_colors = np.array([[250, 250, 250],\n",
        "                              [255, 254, 137], [3,  28,  241], [255, 89,    1], [219, 255, 51],\n",
        "                               [255,   2, 251], [89,  1,  255], [3,   171, 255], [12,  255,   7],\n",
        "                               [172, 175,  84], [160, 78, 158], [101, 173, 255], [60,   91, 112],\n",
        "                              [104, 192,  63], [139, 69,  46], [0, 102, 0], [77, 0, 77]])\n",
        "    targetClass_colors = preprocessing.minmax_scale(targetClass_colors, feature_range=(0, 1))\n",
        "\n",
        "elif name == 'SA':\n",
        "    target_names = ['Background', 'Brocoli_green_weeds_1','Brocoli_green_weeds_2','Fallow','Fallow_rough_plow','Fallow_smooth',\n",
        "                    'Stubble','Celery','Grapes_untrained','Soil_vinyard_develop','Corn_senesced_green_weeds',\n",
        "                    'Lettuce_romaine_4wk','Lettuce_romaine_5wk','Lettuce_romaine_6wk','Lettuce_romaine_7wk',\n",
        "                    'Vinyard_untrained','Vinyard_vertical_trellis']\n",
        "    targetClass_colors = np.array([[250, 250, 250],\n",
        "                              [255, 254, 137], [3,  28,  241], [255, 89,    1], [219, 255, 51],\n",
        "                              [255,   2, 251], [89,  1,  255], [3,   171, 255], [12,  255,   7],\n",
        "                              [172, 175,  84], [160, 78, 158], [101, 173, 255], [60,   91, 112],\n",
        "                              [104, 192,  63], [139, 69,  46], [0, 102, 0], [77, 0, 77]])\n",
        "    targetClass_colors = preprocessing.minmax_scale(targetClass_colors, feature_range=(0, 1))\n",
        "    \n",
        "elif name == 'PU':\n",
        "    target_names = ['Background', 'Asphalt','Meadows','Gravel','Trees', 'Painted metal sheets','Bare Soil','Bitumen',\n",
        "                    'Self-Blocking Bricks','Shadows']\n",
        "    targetClass_colors = np.array([[250, 250, 250],\n",
        "                            [255, 254, 137], [3,  28,  241], [255, 89,    1], [5,   255, 133],\n",
        "                            [255,   2, 251], [139, 69,  46], [101, 173, 255], [0, 102, 0],\n",
        "                            [77, 0, 77]])\n",
        "    targetClass_colors = preprocessing.minmax_scale(targetClass_colors, feature_range=(0, 1))"
      ]
    },
    {
      "cell_type": "code",
      "execution_count": null,
      "metadata": {
        "id": "BRo45gTluEBi"
      },
      "outputs": [],
      "source": [
        "plt.figure(figsize=(10, 10))\n",
        "plt.imshow(labels,cmap= mlp.colors.ListedColormap(targetClass_colors))\n",
        "plt.axis(\"off\")\n",
        "cb = plt.colorbar()\n",
        "loc = np.arange(0,max(np.unique(labels)),max(np.unique(labels))/float(len(targetClass_colors)))\n",
        "cb.set_ticks(loc)\n",
        "cb.set_ticklabels(targetClass_colors)\n",
        "cb.set_ticklabels(target_names)\n",
        "plt.savefig('IP_GroundTruth_Map.jpg', dpi= 600, bbox_inches='tight')"
      ]
    }
  ],
  "metadata": {
    "accelerator": "GPU",
    "colab": {
      "collapsed_sections": [],
      "machine_shape": "hm",
      "name": "HybridSN_MS_SpinalNet_ModifiedBySandeep_PU.ipynb",
      "provenance": []
    },
    "kernelspec": {
      "display_name": "Python 3",
      "language": "python",
      "name": "python3"
    },
    "language_info": {
      "codemirror_mode": {
        "name": "ipython",
        "version": 3
      },
      "file_extension": ".py",
      "mimetype": "text/x-python",
      "name": "python",
      "nbconvert_exporter": "python",
      "pygments_lexer": "ipython3",
      "version": "3.6.8"
    }
  },
  "nbformat": 4,
  "nbformat_minor": 0
}